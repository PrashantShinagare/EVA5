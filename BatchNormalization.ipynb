{
  "nbformat": 4,
  "nbformat_minor": 0,
  "metadata": {
    "kernelspec": {
      "display_name": "Python 3",
      "language": "python",
      "name": "python3"
    },
    "language_info": {
      "codemirror_mode": {
        "name": "ipython",
        "version": 3
      },
      "file_extension": ".py",
      "mimetype": "text/x-python",
      "name": "python",
      "nbconvert_exporter": "python",
      "pygments_lexer": "ipython3",
      "version": "3.8.3"
    },
    "colab": {
      "name": "5_6215189638659703176.ipynb",
      "provenance": [],
      "include_colab_link": true
    }
  },
  "cells": [
    {
      "cell_type": "markdown",
      "metadata": {
        "id": "view-in-github",
        "colab_type": "text"
      },
      "source": [
        "<a href=\"https://colab.research.google.com/github/PrashantShinagare/EVA5/blob/master/BatchNormalization.ipynb\" target=\"_parent\"><img src=\"https://colab.research.google.com/assets/colab-badge.svg\" alt=\"Open In Colab\"/></a>"
      ]
    },
    {
      "cell_type": "code",
      "metadata": {
        "id": "IDXgPIXvvrhZ",
        "colab_type": "code",
        "colab": {}
      },
      "source": [
        "# from IPython.core.interactiveshell import InteractiveShell\n",
        "# InteractiveShell.ast_node_interactivity = 'all'"
      ],
      "execution_count": null,
      "outputs": []
    },
    {
      "cell_type": "markdown",
      "metadata": {
        "id": "LsIaRPmyvrhh",
        "colab_type": "text"
      },
      "source": [
        "### Import Libraries"
      ]
    },
    {
      "cell_type": "code",
      "metadata": {
        "id": "jEyllkB0vrhi",
        "colab_type": "code",
        "colab": {}
      },
      "source": [
        "#Torch Libs\n",
        "import torch\n",
        "import torch.nn as nn\n",
        "import torch.nn.functional as F\n",
        "import torch.optim as optim\n",
        "from torchvision import datasets, transforms, utils\n",
        "from torch.optim.lr_scheduler import StepLR, OneCycleLR\n",
        "\n",
        "#Utility and Plot Libs\n",
        "import matplotlib.pyplot as plt\n",
        "import seaborn as sns\n",
        "import pandas as pd\n",
        "import numpy as np\n",
        "from skimage import io\n",
        "import matplotlib.pyplot as plt\n",
        "from tqdm import tqdm"
      ],
      "execution_count": null,
      "outputs": []
    },
    {
      "cell_type": "markdown",
      "metadata": {
        "id": "KM4gd78tvrhm",
        "colab_type": "text"
      },
      "source": [
        "### Pytorch Version check"
      ]
    },
    {
      "cell_type": "code",
      "metadata": {
        "id": "MofJ1KChvrhn",
        "colab_type": "code",
        "colab": {},
        "outputId": "50f4d116-2b77-4047-89af-525a24722990"
      },
      "source": [
        "torch.__version__"
      ],
      "execution_count": null,
      "outputs": [
        {
          "output_type": "execute_result",
          "data": {
            "text/plain": [
              "'1.6.0'"
            ]
          },
          "metadata": {
            "tags": []
          },
          "execution_count": 3
        }
      ]
    },
    {
      "cell_type": "markdown",
      "metadata": {
        "id": "9HXJEn6uvrht",
        "colab_type": "text"
      },
      "source": [
        "### Data Transformation"
      ]
    },
    {
      "cell_type": "code",
      "metadata": {
        "id": "J6A7JF5ovrhu",
        "colab_type": "code",
        "colab": {}
      },
      "source": [
        "#Need to create a data Trandform function here. there transform objects will be use fulll to apply on data"
      ],
      "execution_count": null,
      "outputs": []
    },
    {
      "cell_type": "code",
      "metadata": {
        "id": "hS04ylLVvrhy",
        "colab_type": "code",
        "colab": {}
      },
      "source": [
        "train_transforms = transforms.Compose([\n",
        "                                      #  transforms.Resize((28, 28)),\n",
        "                                      #  transforms.ColorJitter(brightness=0.10, contrast=0.1, saturation=0.10, hue=0.1),\n",
        "                                       transforms.RandomRotation((-15.0, 15.0), fill=(1,)),\n",
        "                                       transforms.ToTensor(),\n",
        "                                       transforms.Normalize((0.1307,), (0.3081,)) # The mean and std have to be sequences (e.g., tuples), therefore you should add a comma after the values. \n",
        "                                       ])\n",
        "\n",
        "\n",
        "test_transforms = transforms.Compose([\n",
        "                                      #  transforms.Resize((28, 28)),\n",
        "                                      #  transforms.ColorJitter(brightness=0.10, contrast=0.1, saturation=0.10, hue=0.1),\n",
        "                                       transforms.ToTensor(),\n",
        "                                       transforms.Normalize((0.1307,), (0.3081,)) # The mean and std have to be sequences (e.g., tuples), therefore you should add a comma after the values. \n",
        "                                       ])"
      ],
      "execution_count": null,
      "outputs": []
    },
    {
      "cell_type": "markdown",
      "metadata": {
        "id": "ivpnk1zDvrh3",
        "colab_type": "text"
      },
      "source": [
        "### Creating the Trainning and Testing data  "
      ]
    },
    {
      "cell_type": "code",
      "metadata": {
        "id": "12u6XG9lvrh3",
        "colab_type": "code",
        "colab": {}
      },
      "source": [
        "#Here applying the transform function we hafve created.\n",
        "#What is target_transform , Need to understand\n",
        "\n",
        "train = datasets.MNIST('./', train = True,  transform = train_transforms,  target_transform = None,  download = True)\n",
        "test  = datasets.MNIST('./', train = False,  transform = test_transforms,   target_transform = None,  download = True)\n"
      ],
      "execution_count": null,
      "outputs": []
    },
    {
      "cell_type": "code",
      "metadata": {
        "id": "gR8zBmusvrh-",
        "colab_type": "code",
        "colab": {},
        "outputId": "92fb417f-46bb-48dd-c870-91f459061db4"
      },
      "source": [
        "type(train)\n",
        "type(test)"
      ],
      "execution_count": null,
      "outputs": [
        {
          "output_type": "execute_result",
          "data": {
            "text/plain": [
              "torchvision.datasets.mnist.MNIST"
            ]
          },
          "metadata": {
            "tags": []
          },
          "execution_count": 7
        }
      ]
    },
    {
      "cell_type": "markdown",
      "metadata": {
        "id": "7kOQGBmQvriD",
        "colab_type": "text"
      },
      "source": [
        "### Creating Data Loader"
      ]
    },
    {
      "cell_type": "markdown",
      "metadata": {
        "id": "t_y22FcJvriE",
        "colab_type": "text"
      },
      "source": [
        "#### Cuda Checker"
      ]
    },
    {
      "cell_type": "code",
      "metadata": {
        "id": "Z7gwCeeXvriE",
        "colab_type": "code",
        "colab": {},
        "outputId": "f24853ed-19fb-471a-e7fd-47017867effb"
      },
      "source": [
        "cuda = torch.cuda.is_available()\n",
        "print ('Is Cuda Available ?',cuda)"
      ],
      "execution_count": null,
      "outputs": [
        {
          "output_type": "stream",
          "text": [
            "Is Cuda Available ? True\n"
          ],
          "name": "stdout"
        }
      ]
    },
    {
      "cell_type": "code",
      "metadata": {
        "id": "HRsf8qjUvriK",
        "colab_type": "code",
        "colab": {}
      },
      "source": [
        "SEED = 1\n",
        "\n",
        "if cuda:\n",
        "    torch.cuda.manual_seed(SEED)\n",
        "else:\n",
        "    torch.manual_seed(SEED)"
      ],
      "execution_count": null,
      "outputs": []
    },
    {
      "cell_type": "markdown",
      "metadata": {
        "id": "L4qs0W6UvriO",
        "colab_type": "text"
      },
      "source": [
        "#### Based on the cuda availability we are defining the things"
      ]
    },
    {
      "cell_type": "code",
      "metadata": {
        "id": "izNpzOwdvriO",
        "colab_type": "code",
        "colab": {}
      },
      "source": [
        "dataloader_args = dict(shuffle = True,batch_size = 128,num_workers = 4, pin_memory = True) if cuda else dict(shuffle = True,batch_size = 64)"
      ],
      "execution_count": null,
      "outputs": []
    },
    {
      "cell_type": "code",
      "metadata": {
        "id": "Gv81a0xJvriT",
        "colab_type": "code",
        "colab": {},
        "outputId": "21c972d3-7b0c-45ca-b147-a7049452d290"
      },
      "source": [
        "dataloader_args"
      ],
      "execution_count": null,
      "outputs": [
        {
          "output_type": "execute_result",
          "data": {
            "text/plain": [
              "{'shuffle': True, 'batch_size': 128, 'num_workers': 4, 'pin_memory': True}"
            ]
          },
          "metadata": {
            "tags": []
          },
          "execution_count": 11
        }
      ]
    },
    {
      "cell_type": "code",
      "metadata": {
        "id": "GY88Ucw4vriX",
        "colab_type": "code",
        "colab": {}
      },
      "source": [
        "train_loader = torch.utils.data.DataLoader(train,**dataloader_args)\n",
        "test_loader = torch.utils.data.DataLoader(test,**dataloader_args)"
      ],
      "execution_count": null,
      "outputs": []
    },
    {
      "cell_type": "code",
      "metadata": {
        "id": "8pQDowm0vria",
        "colab_type": "code",
        "colab": {},
        "outputId": "df777c81-63cf-4607-d580-7e12d1dddd9e"
      },
      "source": [
        "pwd"
      ],
      "execution_count": null,
      "outputs": [
        {
          "output_type": "execute_result",
          "data": {
            "text/plain": [
              "'/home/abhinav/Documents/GitHub/EVA5group/s6'"
            ]
          },
          "metadata": {
            "tags": []
          },
          "execution_count": 13
        }
      ]
    },
    {
      "cell_type": "markdown",
      "metadata": {
        "id": "56rSTNDavrie",
        "colab_type": "text"
      },
      "source": [
        "### Extracting Statistics"
      ]
    },
    {
      "cell_type": "markdown",
      "metadata": {
        "id": "gWd3cvq2vrie",
        "colab_type": "raw"
      },
      "source": [
        "train_data = train.train_data\n",
        "train_data = train.transform(train_data.numpy())"
      ]
    },
    {
      "cell_type": "markdown",
      "metadata": {
        "id": "nf9WJTRBvrif",
        "colab_type": "raw"
      },
      "source": [
        "print('[Train]')\n",
        "print(' - Numpy Shape:', train.train_data.cpu().numpy().shape)\n",
        "print(' - Tensor Shape:', train.train_data.size())\n",
        "print(' - min:', torch.min(train_data))\n",
        "print(' - max:', torch.max(train_data))\n",
        "print(' - mean:', torch.mean(train_data))\n",
        "print(' - std:', torch.std(train_data))\n",
        "print(' - var:', torch.var(train_data))"
      ]
    },
    {
      "cell_type": "code",
      "metadata": {
        "id": "vEQBR5dCvrig",
        "colab_type": "code",
        "colab": {}
      },
      "source": [
        "dataiter = iter(train_loader)\n",
        "images,label = dataiter.next()"
      ],
      "execution_count": null,
      "outputs": []
    },
    {
      "cell_type": "code",
      "metadata": {
        "id": "SWuLRJR8vrij",
        "colab_type": "code",
        "colab": {},
        "outputId": "c8914e76-c9f0-4057-ca35-35815e0fed63"
      },
      "source": [
        "print(images.shape)\n",
        "print(label.shape)"
      ],
      "execution_count": null,
      "outputs": [
        {
          "output_type": "stream",
          "text": [
            "torch.Size([128, 1, 28, 28])\n",
            "torch.Size([128])\n"
          ],
          "name": "stdout"
        }
      ]
    },
    {
      "cell_type": "code",
      "metadata": {
        "id": "RnZF5_uuvrio",
        "colab_type": "code",
        "colab": {},
        "outputId": "b71dfa33-03a3-483f-bb2d-93de1f95273f"
      },
      "source": [
        "plt.imshow(images[0].numpy().squeeze(),cmap = 'gray_r')"
      ],
      "execution_count": null,
      "outputs": [
        {
          "output_type": "execute_result",
          "data": {
            "text/plain": [
              "<matplotlib.image.AxesImage at 0x7efdb051b820>"
            ]
          },
          "metadata": {
            "tags": []
          },
          "execution_count": 16
        },
        {
          "output_type": "display_data",
          "data": {
            "image/png": "[encoded data removed]",
            "text/plain": [
              "<Figure size 432x288 with 1 Axes>"
            ]
          },
          "metadata": {
            "tags": [],
            "needs_background": "light"
          }
        }
      ]
    },
    {
      "cell_type": "markdown",
      "metadata": {
        "id": "GWnsQhcMvris",
        "colab_type": "text"
      },
      "source": [
        "### Plotting all the image"
      ]
    },
    {
      "cell_type": "code",
      "metadata": {
        "id": "OLdH7SIqvrit",
        "colab_type": "code",
        "colab": {},
        "outputId": "03f48f54-9259-4b78-9b5e-ca75e5fa9eb1"
      },
      "source": [
        "figure = plt.figure()\n",
        "num_of_images = 63\n",
        "for index in range(1, num_of_images + 1):\n",
        "    plt.subplot(10, 10, index)\n",
        "    plt.axis('off')\n",
        "    plt.imshow(images[index].numpy().squeeze(), cmap='gray_r')"
      ],
      "execution_count": null,
      "outputs": [
        {
          "output_type": "display_data",
          "data": {
            "image/png": "[encoded data removed]",
            "text/plain": [
              "<Figure size 432x288 with 63 Axes>"
            ]
          },
          "metadata": {
            "tags": [],
            "needs_background": "light"
          }
        }
      ]
    },
    {
      "cell_type": "markdown",
      "metadata": {
        "id": "5qL857C8vrix",
        "colab_type": "text"
      },
      "source": [
        "## Model Architecture"
      ]
    },
    {
      "cell_type": "markdown",
      "metadata": {
        "id": "slnmBzY0vrix",
        "colab_type": "text"
      },
      "source": [
        "## GBN"
      ]
    },
    {
      "cell_type": "code",
      "metadata": {
        "id": "8cwGofGDvriy",
        "colab_type": "code",
        "colab": {}
      },
      "source": [
        ""
      ],
      "execution_count": null,
      "outputs": []
    },
    {
      "cell_type": "code",
      "metadata": {
        "id": "egnEp8_Gvri2",
        "colab_type": "code",
        "colab": {}
      },
      "source": [
        ""
      ],
      "execution_count": null,
      "outputs": []
    },
    {
      "cell_type": "code",
      "metadata": {
        "id": "sGwX10xevri6",
        "colab_type": "code",
        "colab": {}
      },
      "source": [
        "class GhostBatchNorm(nn.BatchNorm2d):\n",
        "    \"\"\"\n",
        "    From : https://github.com/davidcpage/cifar10-fast/blob/master/bag_of_tricks.ipynb\n",
        "\n",
        "    Batch norm seems to work best with batch size of around 32. The reasons presumably have to do \n",
        "    with noise in the batch statistics and specifically a balance between a beneficial regularising effect \n",
        "    at intermediate batch sizes and an excess of noise at small batches.\n",
        "    \n",
        "    Our batches are of size 512 and we can't afford to reduce them without taking a serious hit on training times, \n",
        "    but we can apply batch norm separately to subsets of a training batch. This technique, known as 'ghost' batch \n",
        "    norm, is usually used in a distributed setting but is just as useful when using large batches on a single node. \n",
        "    It isn't supported directly in PyTorch but we can roll our own easily enough.\n",
        "    \"\"\"\n",
        "    def __init__(self, num_features, num_splits, eps=1e-05, momentum=0.1, weight=True, bias=True):\n",
        "        super(GhostBatchNorm, self).__init__(num_features, eps=eps, momentum=momentum)\n",
        "        self.weight.data.fill_(1.0)\n",
        "        self.bias.data.fill_(0.0)\n",
        "        self.weight.requires_grad = weight\n",
        "        self.bias.requires_grad = bias        \n",
        "        self.num_splits = num_splits\n",
        "        self.register_buffer('running_mean', torch.zeros(num_features*self.num_splits))\n",
        "        self.register_buffer('running_var', torch.ones(num_features*self.num_splits))\n",
        "\n",
        "    def train(self, mode=True):\n",
        "        if (self.training is True) and (mode is False):\n",
        "            self.running_mean = torch.mean(self.running_mean.view(self.num_splits, self.num_features), dim=0).repeat(self.num_splits)\n",
        "            self.running_var = torch.mean(self.running_var.view(self.num_splits, self.num_features), dim=0).repeat(self.num_splits)\n",
        "        return super(GhostBatchNorm, self).train(mode)\n",
        "        \n",
        "    def forward(self, input):\n",
        "        N, C, H, W = input.shape\n",
        "        if self.training or not self.track_running_stats:\n",
        "            return F.batch_norm(\n",
        "                input.view(-1, C*self.num_splits, H, W), self.running_mean, self.running_var, \n",
        "                self.weight.repeat(self.num_splits), self.bias.repeat(self.num_splits),\n",
        "                True, self.momentum, self.eps).view(N, C, H, W) \n",
        "        else:\n",
        "            return F.batch_norm(\n",
        "                input, self.running_mean[:self.num_features], self.running_var[:self.num_features], \n",
        "                self.weight, self.bias, False, self.momentum, self.eps)\n",
        "\n",
        "        "
      ],
      "execution_count": null,
      "outputs": []
    },
    {
      "cell_type": "code",
      "metadata": {
        "id": "d1QQ32MWvri-",
        "colab_type": "code",
        "colab": {}
      },
      "source": [
        "\n",
        "class Net(nn.Module):\n",
        "    def __init__(self,ghost = False):\n",
        "        super(Net, self).__init__()\n",
        "        self.dropout_value = 0.05\n",
        "        # Input Block\n",
        "        print('GHOST BHAI is ',ghost)\n",
        "        self.convblock1 = nn.Sequential(\n",
        "            nn.Conv2d(in_channels=1, out_channels=10, kernel_size=(3, 3), padding=0, bias=False),\n",
        "            nn.BatchNorm2d(10) if ghost is False else GhostBatchNorm(10, num_splits=4, weight=False),\n",
        "            nn.Dropout(self.dropout_value),\n",
        "            nn.ReLU()\n",
        "        ) # input_size = 28 output_size = 26 receptive_field = 3\n",
        "\n",
        "        # CONVOLUTION BLOCK 1\n",
        "        self.convblock2 = nn.Sequential(\n",
        "            nn.Conv2d(in_channels=10, out_channels=10, kernel_size=(3, 3), padding=0, bias=False),\n",
        "            nn.BatchNorm2d(10) if ghost is False else GhostBatchNorm(10, num_splits=4, weight=False),\n",
        "            nn.Dropout(self.dropout_value),\n",
        "            nn.ReLU(),\n",
        "        ) # input_size = 26 output_size = 24 receptive_field = 5\n",
        "        \n",
        "        self.convblock3 = nn.Sequential(\n",
        "            nn.Conv2d(in_channels=10, out_channels=10, kernel_size=(3, 3), padding=0, bias=False),\n",
        "            nn.BatchNorm2d(10) if ghost is False else GhostBatchNorm(10, num_splits=64//32, weight=False),\n",
        "            nn.Dropout(self.dropout_value),\n",
        "            nn.ReLU()\n",
        "        ) # input_size = 24 output_size = 22 receptive_field = 7       \n",
        "        \n",
        "        self.convblock4 = nn.Sequential(\n",
        "            nn.Conv2d(in_channels=10, out_channels=10, kernel_size=(3, 3), padding=0, bias=False),\n",
        "            nn.BatchNorm2d(10) if ghost is False else GhostBatchNorm(10, num_splits=64//32, weight=False),\n",
        "            nn.Dropout(self.dropout_value),\n",
        "            nn.ReLU()\n",
        "        ) # input_size = 22 output_size = 20 receptive_field = 9        \n",
        "        \n",
        "        \n",
        "        self.pool1 = nn.MaxPool2d(2, 2) # input_size = 20 output_size = 10 receptive_field = 18\n",
        "\n",
        "        # CONVOLUTION BLOCK 2\n",
        "        self.convblock5 = nn.Sequential(\n",
        "            nn.Conv2d(in_channels=10, out_channels=10, kernel_size=(3, 3), padding=0, bias=False),\n",
        "            nn.BatchNorm2d(10) if ghost is False else GhostBatchNorm(10, num_splits=64//32, weight=False),\n",
        "            nn.Dropout(self.dropout_value),\n",
        "            nn.ReLU()\n",
        "        ) # input_size = 10 output_size = 8 receptive_field = 20\n",
        "        \n",
        "        self.convblock6 = nn.Sequential(\n",
        "            nn.Conv2d(in_channels=10, out_channels=16, kernel_size=(3, 3), padding=0, bias=False),\n",
        "            nn.BatchNorm2d(16) if ghost is False else GhostBatchNorm(16, num_splits=64//32, weight=False),\n",
        "            nn.Dropout(self.dropout_value),\n",
        "            nn.ReLU()\n",
        "        ) # input_size = 8 output_size = 6 receptive_field = 22\n",
        "        \n",
        "        self.convblock7 = nn.Sequential(\n",
        "            nn.Conv2d(in_channels=16, out_channels=16, kernel_size=(3, 3), padding=0, bias=False),\n",
        "            nn.BatchNorm2d(16) if ghost is False else GhostBatchNorm(16, num_splits=64//32, weight=False),\n",
        "            nn.Dropout(self.dropout_value),\n",
        "            nn.ReLU()\n",
        "        ) # input_size = 6 output_size = 4 receptive_field = 24\n",
        "        \n",
        "        self.gap = nn.AvgPool2d(kernel_size=(4,4)) \n",
        "        \n",
        "        self.convblock8 = nn.Sequential(\n",
        "            nn.Conv2d(in_channels=16, out_channels=10, kernel_size=(1, 1), padding=0, bias=False),\n",
        "        ) # input_size = 1 output_size = 1  receptive_field = 24\n",
        "        \n",
        "\n",
        "    def forward(self, x):\n",
        "        x = self.convblock1(x)\n",
        "        x = self.convblock2(x)\n",
        "        x = self.convblock3(x)\n",
        "        x = self.convblock4(x)\n",
        "        x = self.pool1(x)\n",
        "        x = self.convblock5(x)\n",
        "        x = self.convblock6(x)\n",
        "        x = self.convblock7(x)\n",
        "        x = self.gap(x)  \n",
        "        x = self.convblock8(x)\n",
        "        x = x.view(-1, 10)\n",
        "        \n",
        "        return F.log_softmax(x, dim=-1)"
      ],
      "execution_count": null,
      "outputs": []
    },
    {
      "cell_type": "markdown",
      "metadata": {
        "id": "m6cHZsHLvrjC",
        "colab_type": "text"
      },
      "source": [
        "### Model Param"
      ]
    },
    {
      "cell_type": "code",
      "metadata": {
        "id": "eM8F7Y9DvrjC",
        "colab_type": "code",
        "colab": {},
        "outputId": "2b65baeb-4a4b-45bf-c9f2-521f81c96e81"
      },
      "source": [
        "from torchsummary import summary\n",
        "use_cuda = torch.cuda.is_available()\n",
        "device = torch.device(\"cuda\" if use_cuda else \"cpu\")\n",
        "print(device)\n",
        "model = Net().to(device)\n",
        "summary(model, input_size=(1, 28, 28))"
      ],
      "execution_count": null,
      "outputs": [
        {
          "output_type": "stream",
          "text": [
            "cuda\n",
            "GHOST BHAI is  False\n",
            "----------------------------------------------------------------\n",
            "        Layer (type)               Output Shape         Param #\n",
            "================================================================\n",
            "            Conv2d-1           [-1, 10, 26, 26]              90\n",
            "       BatchNorm2d-2           [-1, 10, 26, 26]              20\n",
            "           Dropout-3           [-1, 10, 26, 26]               0\n",
            "              ReLU-4           [-1, 10, 26, 26]               0\n",
            "            Conv2d-5           [-1, 10, 24, 24]             900\n",
            "       BatchNorm2d-6           [-1, 10, 24, 24]              20\n",
            "           Dropout-7           [-1, 10, 24, 24]               0\n",
            "              ReLU-8           [-1, 10, 24, 24]               0\n",
            "            Conv2d-9           [-1, 10, 22, 22]             900\n",
            "      BatchNorm2d-10           [-1, 10, 22, 22]              20\n",
            "          Dropout-11           [-1, 10, 22, 22]               0\n",
            "             ReLU-12           [-1, 10, 22, 22]               0\n",
            "           Conv2d-13           [-1, 10, 20, 20]             900\n",
            "      BatchNorm2d-14           [-1, 10, 20, 20]              20\n",
            "          Dropout-15           [-1, 10, 20, 20]               0\n",
            "             ReLU-16           [-1, 10, 20, 20]               0\n",
            "        MaxPool2d-17           [-1, 10, 10, 10]               0\n",
            "           Conv2d-18             [-1, 10, 8, 8]             900\n",
            "      BatchNorm2d-19             [-1, 10, 8, 8]              20\n",
            "          Dropout-20             [-1, 10, 8, 8]               0\n",
            "             ReLU-21             [-1, 10, 8, 8]               0\n",
            "           Conv2d-22             [-1, 16, 6, 6]           1,440\n",
            "      BatchNorm2d-23             [-1, 16, 6, 6]              32\n",
            "          Dropout-24             [-1, 16, 6, 6]               0\n",
            "             ReLU-25             [-1, 16, 6, 6]               0\n",
            "           Conv2d-26             [-1, 16, 4, 4]           2,304\n",
            "      BatchNorm2d-27             [-1, 16, 4, 4]              32\n",
            "          Dropout-28             [-1, 16, 4, 4]               0\n",
            "             ReLU-29             [-1, 16, 4, 4]               0\n",
            "        AvgPool2d-30             [-1, 16, 1, 1]               0\n",
            "           Conv2d-31             [-1, 10, 1, 1]             160\n",
            "================================================================\n",
            "Total params: 7,758\n",
            "Trainable params: 7,758\n",
            "Non-trainable params: 0\n",
            "----------------------------------------------------------------\n",
            "Input size (MB): 0.00\n",
            "Forward/backward pass size (MB): 0.70\n",
            "Params size (MB): 0.03\n",
            "Estimated Total Size (MB): 0.74\n",
            "----------------------------------------------------------------\n"
          ],
          "name": "stdout"
        }
      ]
    },
    {
      "cell_type": "code",
      "metadata": {
        "id": "GH0f5a31vrjH",
        "colab_type": "code",
        "colab": {}
      },
      "source": [
        "#L1 Loss Calculator\n",
        "def L1_Loss_calc(model, factor=0.0005):\n",
        "    l1_crit = nn.L1Loss(size_average=False)\n",
        "    reg_loss = 0\n",
        "    for param in model.parameters():\n",
        "        #zero_vector = torch.rand_like(param)*0\n",
        "        zero_vector = torch.zeros_like(param)\n",
        "        reg_loss += l1_crit(param,zero_vector)\n",
        "    return factor * reg_loss"
      ],
      "execution_count": null,
      "outputs": []
    },
    {
      "cell_type": "code",
      "metadata": {
        "id": "DKrU7oxAvrjL",
        "colab_type": "code",
        "colab": {}
      },
      "source": [
        "from tqdm import tqdm\n",
        "\n",
        "def train(model, device, train_loader, optimizer, epoch,scheduler,l1_check =False):\n",
        "    model.train()\n",
        "    pbar = tqdm(train_loader)\n",
        "    train_loss = 0\n",
        "    correct = 0\n",
        "    processed = 0\n",
        "    for batch_idx, (data, target) in enumerate(pbar):\n",
        "        # get samples\n",
        "        data, target = data.to(device), target.to(device)\n",
        "\n",
        "        # Init\n",
        "        optimizer.zero_grad()\n",
        "        \n",
        "        # Predict\n",
        "        y_pred = model(data)\n",
        "\n",
        "        # Calculate loss\n",
        "        loss = F.nll_loss(y_pred, target)\n",
        "        #adding L1 loss function call \n",
        "\n",
        "        if( l1_check == True ):\n",
        "            regloss = L1_Loss_calc(model, 0.0005)\n",
        "            regloss /= len(data) # by batch size\n",
        "            loss += regloss\n",
        "\n",
        "        train_loss += loss.item()\n",
        "\n",
        "        # Backpropagation\n",
        "        loss.backward()\n",
        "        optimizer.step()\n",
        "\n",
        "        # Update pbar-tqdm\n",
        "\n",
        "        pred = y_pred.argmax(dim=1, keepdim=True)  # get the index of the max log-probability\n",
        "        correct += pred.eq(target.view_as(pred)).sum().item()\n",
        "        processed += len(data)\n",
        "\n",
        "#         pbar.set_description(desc= f'Loss={loss.item():0.6f} Batch_id={batch_idx} Accuracy={100*correct/processed:0.2f}')\n",
        "        pbar.set_description(desc= f'Loss={train_loss/(batch_idx+1):0.6f} Batch_id={batch_idx} Accuracy={100*correct/processed:0.2f}')\n",
        "\n",
        "    train_loss /= len(train_loader)\n",
        "    \n",
        "    acc = np.round(100. * correct/len(train_loader.dataset),2) #processed # \n",
        "    scheduler.step()\n",
        "    return acc, np.round(train_loss,5)"
      ],
      "execution_count": null,
      "outputs": []
    },
    {
      "cell_type": "code",
      "metadata": {
        "id": "i8vUPlo_vrjQ",
        "colab_type": "code",
        "colab": {}
      },
      "source": [
        "\n",
        "def test(model, device, test_loader,l1_check = False):\n",
        "    model.eval()\n",
        "    test_loss = 0\n",
        "    correct = 0\n",
        "    with torch.no_grad():\n",
        "        for data, target in test_loader:\n",
        "            data, target = data.to(device), target.to(device)\n",
        "            output = model(data)\n",
        "            test_loss += F.nll_loss(output, target, reduction='sum').item()  # sum up batch loss\n",
        "            pred = output.argmax(dim=1, keepdim=True)  # get the index of the max log-probability\n",
        "            correct += pred.eq(target.view_as(pred)).sum().item()\n",
        "\n",
        "    test_loss /= len(test_loader.dataset)\n",
        "    if( l1_check == True ):\n",
        "            regloss = L1_Loss_calc(model, 0.0005)\n",
        "            regloss /= len(data) # by batch size\n",
        "            test_loss += regloss\n",
        "\n",
        "    print('\\nTest set: Average loss: {:.4f}, Accuracy: {}/{} ({:.2f}%)\\n'.format(test_loss, correct, len(test_loader.dataset),100 * correct / len(test_loader.dataset)))\n",
        "    acc = 100 * correct /len(test_loader.dataset)\n",
        "    acc = np.round(acc,2)\n",
        "    \n",
        "    return acc, test_loss\n",
        "    "
      ],
      "execution_count": null,
      "outputs": []
    },
    {
      "cell_type": "code",
      "metadata": {
        "id": "rdMaQNP_vrjU",
        "colab_type": "code",
        "colab": {}
      },
      "source": [
        "EPOCHS = 15\n",
        "learning_rate = 0.04"
      ],
      "execution_count": null,
      "outputs": []
    },
    {
      "cell_type": "markdown",
      "metadata": {
        "id": "33_y7xz0vrjb",
        "colab_type": "text"
      },
      "source": [
        "### Temp Store"
      ]
    },
    {
      "cell_type": "markdown",
      "metadata": {
        "id": "2PK7d664vrjd",
        "colab_type": "text"
      },
      "source": [
        "### Lets add L2 "
      ]
    },
    {
      "cell_type": "code",
      "metadata": {
        "id": "-lRtxGKtvrje",
        "colab_type": "code",
        "colab": {},
        "outputId": "caa341de-f02f-4775-957c-b76ddbe9633a"
      },
      "source": [
        "len(train_loader)"
      ],
      "execution_count": null,
      "outputs": [
        {
          "output_type": "execute_result",
          "data": {
            "text/plain": [
              "469"
            ]
          },
          "metadata": {
            "tags": []
          },
          "execution_count": 25
        }
      ]
    },
    {
      "cell_type": "code",
      "metadata": {
        "id": "qSQ8x5xpvrjh",
        "colab_type": "code",
        "colab": {}
      },
      "source": [
        "def model_building(typ, model, device,train_loader, test_loader,l1_check = False, l2_val = 0, EPOCHS = 3):\n",
        "    \n",
        "    train_losses = []\n",
        "    train_acc = []\n",
        "    test_losses = []\n",
        "    test_acc = []\n",
        "    \n",
        "    optimizer = optim.SGD(model.parameters(), lr=learning_rate, momentum=0.9)\n",
        "    scheduler = torch.optim.lr_scheduler.OneCycleLR(optimizer, max_lr=0.2, steps_per_epoch=len(train_loader), epochs=EPOCHS)\n",
        "    \n",
        "    print ('Model with ', typ)\n",
        "    for epoch in range(1,EPOCHS):\n",
        "        print(\"EPOCH:\", epoch,'LR : ',scheduler.get_lr())\n",
        "#         scheduler.step()\n",
        "        acc,loss =  train(model, device, train_loader, optimizer, epoch,scheduler,l1_check= True)\n",
        "        train_acc.append(acc)\n",
        "        train_losses.append(loss)\n",
        "        \n",
        "        acc,loss =  test(model, device, test_loader,l1_check= True)\n",
        "        test_acc.append(acc)\n",
        "        test_losses.append(loss)\n",
        "        \n",
        "    return train_acc,train_losses,test_acc,test_losses"
      ],
      "execution_count": null,
      "outputs": []
    },
    {
      "cell_type": "markdown",
      "metadata": {
        "id": "4odIzt7qvrjn",
        "colab_type": "text"
      },
      "source": [
        "## Missclassifications\n"
      ]
    },
    {
      "cell_type": "code",
      "metadata": {
        "id": "VXmJV1OQvrjn",
        "colab_type": "code",
        "colab": {}
      },
      "source": [
        "def miss_classification(typ, model, device, testloader, num_of_images = 25, save_filename=\"misclassified\"):\n",
        "    model.eval()\n",
        "    misclassified_cnt = 0\n",
        "    fig = plt.figure(figsize=(12,12))\n",
        "    for data, target in testloader:\n",
        "        data, target = data.to(device), target.to(device)\n",
        "        output = model(data)\n",
        "        pred = output.argmax(dim=1, keepdim=True)     # get the index of the max log-probability\n",
        "        pred_marker = pred.eq(target.view_as(pred))   \n",
        "        wrong_idx = (pred_marker == False).nonzero()  # get indices for wrong predictions\n",
        "#         print ('Missclassification on ', typ)\n",
        "        for idx in wrong_idx:\n",
        "            index = idx[0].item()\n",
        "            title = \"Actul:{}, Pred:{}\".format(target[index].item(), pred[index][0].item())\n",
        "            #print(title)\n",
        "            ax = fig.add_subplot(5, 5, misclassified_cnt+1, xticks=[], yticks=[]) #ax.axis('off')\n",
        "            ax.set_title(title)\n",
        "            plt.imshow(data[index].cpu().numpy().squeeze(), cmap='gray_r')\n",
        "            misclassified_cnt += 1\n",
        "            if(misclassified_cnt==num_of_images):\n",
        "                break\n",
        "        if(misclassified_cnt==num_of_images):\n",
        "            break\n",
        "    \n",
        "    fig.savefig(\"{}.png\".format(save_filename)) \n",
        "    return"
      ],
      "execution_count": null,
      "outputs": []
    },
    {
      "cell_type": "code",
      "metadata": {
        "id": "7z1XICA4vrjq",
        "colab_type": "code",
        "colab": {}
      },
      "source": [
        "def plot_acc_loss(typ, train_acc,train_losses,test_acc,test_losses):\n",
        "    fig, axs = plt.subplots(1,2,figsize=(20,5))\n",
        "    print ('Accuracy model on  ', typ)\n",
        "    plt.autoscale()\n",
        "    axs[0].plot(train_acc,color = 'red')\n",
        "    axs[0].plot(test_acc,color = 'green')\n",
        "    title = 'Training/testing accuracy'\n",
        "    axs[0].set_title(title)\n",
        "    axs[0].set_ylabel('Accuracy')\n",
        "    axs[0].set_xlabel('Epoch')\n",
        "    axs[0].legend(['train','test'], loc='best')\n",
        "       \n",
        "    axs[1].plot(train_losses,color = 'red')\n",
        "    axs[1].plot(test_losses,color = 'green')\n",
        "    title = 'Training/Testing Loss'\n",
        "    axs[1].set_title(title)\n",
        "    axs[1].set_ylabel('Loss')\n",
        "    axs[1].set_xlabel('Epoch')\n",
        "    axs[1].legend(['train','test'], loc='best')\n",
        "    \n",
        "    plt.show()"
      ],
      "execution_count": null,
      "outputs": []
    },
    {
      "cell_type": "code",
      "metadata": {
        "id": "bBhQG5B3vrjt",
        "colab_type": "code",
        "colab": {}
      },
      "source": [
        "def modelcalling(models):\n",
        "\n",
        "    for typ in models:\n",
        "        if typ == 'L1+BN':\n",
        "            l1_check = True\n",
        "            l2_val = 0\n",
        "            ghost = False\n",
        "        elif typ == 'L2+BN':\n",
        "            l1_check = False\n",
        "            l2_val = 0.03\n",
        "            ghost = False\n",
        "        elif typ == 'L1 & L2 + BN':\n",
        "            l1_check = True\n",
        "            l2_val = 0.03\n",
        "            ghost = False\n",
        "        elif typ == 'GBN':\n",
        "            l1_check = False\n",
        "            l2_val = 0\n",
        "            ghost = True\n",
        "        elif typ == 'L1 & L2 + GBN':\n",
        "            l1_check = True\n",
        "            l2_val = 0.03\n",
        "            ghost = True\n",
        "            \n",
        "        model =  Net(ghost).to(device)\n",
        "        train_acc,train_losses,test_acc,test_losses = model_building(typ, model, device,train_loader, test_loader,l1_check = False,l2_val = 0,EPOCHS = 20)\n",
        "        plot_acc_loss(typ, train_acc,train_losses,test_acc,test_losses)\n",
        "        miss_classification(typ, model, device, testloader = test_loader, num_of_images = 25, save_filename=\"misclassified\")\n",
        "        \n",
        "        modelparams = {'train_acc':train_acc,'test_acc':test_acc,'train_losses':train_losses,'test_losses':test_losses}\n",
        "        file = pd.DataFrame(modelparams)\n",
        "        file.to_csv(typ + 'param'+'.csv')"
      ],
      "execution_count": null,
      "outputs": []
    },
    {
      "cell_type": "markdown",
      "metadata": {
        "id": "Y_g-zeAdvrjy",
        "colab_type": "raw"
      },
      "source": [
        "models = ['L1+BN','L2+BN','L1 & L2 + BN','GBN','L1 & L2 + GBN']"
      ]
    },
    {
      "cell_type": "code",
      "metadata": {
        "id": "CE9-J8dGvrjz",
        "colab_type": "code",
        "colab": {},
        "outputId": "5aa09025-a214-4a63-bf78-d70f4297f98d"
      },
      "source": [
        "models = ['L1+BN','L2+BN','L1 & L2 + BN','GBN','L1 & L2 + GBN']\n",
        "modelcalling(models)"
      ],
      "execution_count": null,
      "outputs": [
        {
          "output_type": "stream",
          "text": [
            "/home/abhinav/Downloads/pwd/lib/python3.8/site-packages/torch/optim/lr_scheduler.py:1205: UserWarning: To get the last learning rate computed by the scheduler, please use `get_last_lr()`.\n",
            "  warnings.warn(\"To get the last learning rate computed by the scheduler, \"\n",
            "\r  0%|          | 0/469 [00:00<?, ?it/s]"
          ],
          "name": "stderr"
        },
        {
          "output_type": "stream",
          "text": [
            "GHOST BHAI is  False\n",
            "Model with  L1+BN\n",
            "EPOCH: 1 LR :  [0.008000000000000007]\n"
          ],
          "name": "stdout"
        },
        {
          "output_type": "stream",
          "text": [
            "/home/abhinav/Downloads/pwd/lib/python3.8/site-packages/torch/nn/_reduction.py:44: UserWarning: size_average and reduce args will be deprecated, please use reduction='sum' instead.\n",
            "  warnings.warn(warning.format(ret))\n",
            "Loss=0.573382 Batch_id=468 Accuracy=83.13: 100%|██████████| 469/469 [00:04<00:00, 117.01it/s]\n",
            "  0%|          | 0/469 [00:00<?, ?it/s]"
          ],
          "name": "stderr"
        },
        {
          "output_type": "stream",
          "text": [
            "\n",
            "Test set: Average loss: 0.0987, Accuracy: 9760/10000 (97.60%)\n",
            "\n",
            "EPOCH: 2 LR :  [0.008000059868926823]\n"
          ],
          "name": "stdout"
        },
        {
          "output_type": "stream",
          "text": [
            "Loss=0.095077 Batch_id=468 Accuracy=97.37: 100%|██████████| 469/469 [00:04<00:00, 114.34it/s]\n",
            "  0%|          | 0/469 [00:00<?, ?it/s]"
          ],
          "name": "stderr"
        },
        {
          "output_type": "stream",
          "text": [
            "\n",
            "Test set: Average loss: 0.0616, Accuracy: 9883/10000 (98.83%)\n",
            "\n",
            "EPOCH: 3 LR :  [0.008000239475632637]\n"
          ],
          "name": "stdout"
        },
        {
          "output_type": "stream",
          "text": [
            "Loss=0.074969 Batch_id=468 Accuracy=97.84: 100%|██████████| 469/469 [00:04<00:00, 114.62it/s]\n",
            "  0%|          | 0/469 [00:00<?, ?it/s]"
          ],
          "name": "stderr"
        },
        {
          "output_type": "stream",
          "text": [
            "\n",
            "Test set: Average loss: 0.0583, Accuracy: 9889/10000 (98.89%)\n",
            "\n",
            "EPOCH: 4 LR :  [0.008000538819893377]\n"
          ],
          "name": "stdout"
        },
        {
          "output_type": "stream",
          "text": [
            "Loss=0.066148 Batch_id=468 Accuracy=98.07: 100%|██████████| 469/469 [00:04<00:00, 117.17it/s]\n",
            "  0%|          | 0/469 [00:00<?, ?it/s]"
          ],
          "name": "stderr"
        },
        {
          "output_type": "stream",
          "text": [
            "\n",
            "Test set: Average loss: 0.0518, Accuracy: 9916/10000 (99.16%)\n",
            "\n",
            "EPOCH: 5 LR :  [0.008000957901335731]\n"
          ],
          "name": "stdout"
        },
        {
          "output_type": "stream",
          "text": [
            "Loss=0.060247 Batch_id=468 Accuracy=98.29: 100%|██████████| 469/469 [00:04<00:00, 116.35it/s]\n",
            "  0%|          | 0/469 [00:00<?, ?it/s]"
          ],
          "name": "stderr"
        },
        {
          "output_type": "stream",
          "text": [
            "\n",
            "Test set: Average loss: 0.0545, Accuracy: 9905/10000 (99.05%)\n",
            "\n",
            "EPOCH: 6 LR :  [0.008001496719436951]\n"
          ],
          "name": "stdout"
        },
        {
          "output_type": "stream",
          "text": [
            "Loss=0.056775 Batch_id=468 Accuracy=98.35: 100%|██████████| 469/469 [00:04<00:00, 110.84it/s]\n",
            "  0%|          | 0/469 [00:00<?, ?it/s]"
          ],
          "name": "stderr"
        },
        {
          "output_type": "stream",
          "text": [
            "\n",
            "Test set: Average loss: 0.0507, Accuracy: 9915/10000 (99.15%)\n",
            "\n",
            "EPOCH: 7 LR :  [0.008002155273525019]\n"
          ],
          "name": "stdout"
        },
        {
          "output_type": "stream",
          "text": [
            "Loss=0.052987 Batch_id=468 Accuracy=98.46: 100%|██████████| 469/469 [00:04<00:00, 112.01it/s]\n",
            "  0%|          | 0/469 [00:00<?, ?it/s]"
          ],
          "name": "stderr"
        },
        {
          "output_type": "stream",
          "text": [
            "\n",
            "Test set: Average loss: 0.0478, Accuracy: 9926/10000 (99.26%)\n",
            "\n",
            "EPOCH: 8 LR :  [0.008002933562778508]\n"
          ],
          "name": "stdout"
        },
        {
          "output_type": "stream",
          "text": [
            "Loss=0.050842 Batch_id=468 Accuracy=98.53: 100%|██████████| 469/469 [00:04<00:00, 114.39it/s]\n",
            "  0%|          | 0/469 [00:00<?, ?it/s]"
          ],
          "name": "stderr"
        },
        {
          "output_type": "stream",
          "text": [
            "\n",
            "Test set: Average loss: 0.0476, Accuracy: 9921/10000 (99.21%)\n",
            "\n",
            "EPOCH: 9 LR :  [0.008003831586226723]\n"
          ],
          "name": "stdout"
        },
        {
          "output_type": "stream",
          "text": [
            "Loss=0.050242 Batch_id=468 Accuracy=98.53: 100%|██████████| 469/469 [00:04<00:00, 111.54it/s]\n",
            "  0%|          | 0/469 [00:00<?, ?it/s]"
          ],
          "name": "stderr"
        },
        {
          "output_type": "stream",
          "text": [
            "\n",
            "Test set: Average loss: 0.0485, Accuracy: 9931/10000 (99.31%)\n",
            "\n",
            "EPOCH: 10 LR :  [0.008004849342749532]\n"
          ],
          "name": "stdout"
        },
        {
          "output_type": "stream",
          "text": [
            "Loss=0.048228 Batch_id=468 Accuracy=98.61: 100%|██████████| 469/469 [00:04<00:00, 116.06it/s]\n",
            "  0%|          | 0/469 [00:00<?, ?it/s]"
          ],
          "name": "stderr"
        },
        {
          "output_type": "stream",
          "text": [
            "\n",
            "Test set: Average loss: 0.0478, Accuracy: 9928/10000 (99.28%)\n",
            "\n",
            "EPOCH: 11 LR :  [0.00800598683107756]\n"
          ],
          "name": "stdout"
        },
        {
          "output_type": "stream",
          "text": [
            "Loss=0.047282 Batch_id=468 Accuracy=98.66: 100%|██████████| 469/469 [00:04<00:00, 112.55it/s]\n",
            "  0%|          | 0/469 [00:00<?, ?it/s]"
          ],
          "name": "stderr"
        },
        {
          "output_type": "stream",
          "text": [
            "\n",
            "Test set: Average loss: 0.0488, Accuracy: 9929/10000 (99.29%)\n",
            "\n",
            "EPOCH: 12 LR :  [0.008007244049792084]\n"
          ],
          "name": "stdout"
        },
        {
          "output_type": "stream",
          "text": [
            "Loss=0.046702 Batch_id=468 Accuracy=98.66: 100%|██████████| 469/469 [00:03<00:00, 117.76it/s]\n",
            "  0%|          | 0/469 [00:00<?, ?it/s]"
          ],
          "name": "stderr"
        },
        {
          "output_type": "stream",
          "text": [
            "\n",
            "Test set: Average loss: 0.0486, Accuracy: 9929/10000 (99.29%)\n",
            "\n",
            "EPOCH: 13 LR :  [0.008008620997324911]\n"
          ],
          "name": "stdout"
        },
        {
          "output_type": "stream",
          "text": [
            "Loss=0.044825 Batch_id=468 Accuracy=98.66: 100%|██████████| 469/469 [00:03<00:00, 119.30it/s]\n",
            "  0%|          | 0/469 [00:00<?, ?it/s]"
          ],
          "name": "stderr"
        },
        {
          "output_type": "stream",
          "text": [
            "\n",
            "Test set: Average loss: 0.0483, Accuracy: 9934/10000 (99.34%)\n",
            "\n",
            "EPOCH: 14 LR :  [0.008010117671958722]\n"
          ],
          "name": "stdout"
        },
        {
          "output_type": "stream",
          "text": [
            "Loss=0.044463 Batch_id=468 Accuracy=98.77: 100%|██████████| 469/469 [00:04<00:00, 111.60it/s]\n",
            "  0%|          | 0/469 [00:00<?, ?it/s]"
          ],
          "name": "stderr"
        },
        {
          "output_type": "stream",
          "text": [
            "\n",
            "Test set: Average loss: 0.0492, Accuracy: 9931/10000 (99.31%)\n",
            "\n",
            "EPOCH: 15 LR :  [0.008011734071826704]\n"
          ],
          "name": "stdout"
        },
        {
          "output_type": "stream",
          "text": [
            "Loss=0.043342 Batch_id=468 Accuracy=98.77: 100%|██████████| 469/469 [00:04<00:00, 111.91it/s]\n",
            "  0%|          | 0/469 [00:00<?, ?it/s]"
          ],
          "name": "stderr"
        },
        {
          "output_type": "stream",
          "text": [
            "\n",
            "Test set: Average loss: 0.0504, Accuracy: 9929/10000 (99.29%)\n",
            "\n",
            "EPOCH: 16 LR :  [0.008013470194912775]\n"
          ],
          "name": "stdout"
        },
        {
          "output_type": "stream",
          "text": [
            "Loss=0.043531 Batch_id=468 Accuracy=98.74: 100%|██████████| 469/469 [00:04<00:00, 106.50it/s]\n",
            "  0%|          | 0/469 [00:00<?, ?it/s]"
          ],
          "name": "stderr"
        },
        {
          "output_type": "stream",
          "text": [
            "\n",
            "Test set: Average loss: 0.0496, Accuracy: 9933/10000 (99.33%)\n",
            "\n",
            "EPOCH: 17 LR :  [0.008015326039051529]\n"
          ],
          "name": "stdout"
        },
        {
          "output_type": "stream",
          "text": [
            "Loss=0.042678 Batch_id=468 Accuracy=98.78: 100%|██████████| 469/469 [00:04<00:00, 108.37it/s]\n",
            "  0%|          | 0/469 [00:00<?, ?it/s]"
          ],
          "name": "stderr"
        },
        {
          "output_type": "stream",
          "text": [
            "\n",
            "Test set: Average loss: 0.0508, Accuracy: 9927/10000 (99.27%)\n",
            "\n",
            "EPOCH: 18 LR :  [0.008017301601928262]\n"
          ],
          "name": "stdout"
        },
        {
          "output_type": "stream",
          "text": [
            "Loss=0.040682 Batch_id=468 Accuracy=98.85: 100%|██████████| 469/469 [00:04<00:00, 108.38it/s]\n",
            "  0%|          | 0/469 [00:00<?, ?it/s]"
          ],
          "name": "stderr"
        },
        {
          "output_type": "stream",
          "text": [
            "\n",
            "Test set: Average loss: 0.0492, Accuracy: 9935/10000 (99.35%)\n",
            "\n",
            "EPOCH: 19 LR :  [0.00801939688107886]\n"
          ],
          "name": "stdout"
        },
        {
          "output_type": "stream",
          "text": [
            "Loss=0.040430 Batch_id=468 Accuracy=98.82: 100%|██████████| 469/469 [00:04<00:00, 107.34it/s]\n"
          ],
          "name": "stderr"
        },
        {
          "output_type": "stream",
          "text": [
            "\n",
            "Test set: Average loss: 0.0463, Accuracy: 9941/10000 (99.41%)\n",
            "\n",
            "Accuracy model on   L1+BN\n"
          ],
          "name": "stdout"
        },
        {
          "output_type": "display_data",
          "data": {
            "image/png": "[encoded data removed]",
            "text/plain": [
              "<Figure size 1440x360 with 2 Axes>"
            ]
          },
          "metadata": {
            "tags": [],
            "needs_background": "light"
          }
        },
        {
          "output_type": "stream",
          "text": [
            "<ipython-input-27-5a8a9b1e9cac>:10: UserWarning: This overload of nonzero is deprecated:\n",
            "\tnonzero()\n",
            "Consider using one of the following signatures instead:\n",
            "\tnonzero(*, bool as_tuple) (Triggered internally at  /opt/conda/conda-bld/pytorch_1595629395347/work/torch/csrc/utils/python_arg_parser.cpp:766.)\n",
            "  wrong_idx = (pred_marker == False).nonzero()  # get indices for wrong predictions\n",
            "  0%|          | 0/469 [00:00<?, ?it/s]"
          ],
          "name": "stderr"
        },
        {
          "output_type": "stream",
          "text": [
            "GHOST BHAI is  False\n",
            "Model with  L2+BN\n",
            "EPOCH: 1 LR :  [0.008000000000000007]\n"
          ],
          "name": "stdout"
        },
        {
          "output_type": "stream",
          "text": [
            "Loss=0.559642 Batch_id=468 Accuracy=83.58: 100%|██████████| 469/469 [00:04<00:00, 107.21it/s]\n",
            "  0%|          | 0/469 [00:00<?, ?it/s]"
          ],
          "name": "stderr"
        },
        {
          "output_type": "stream",
          "text": [
            "\n",
            "Test set: Average loss: 0.0846, Accuracy: 9819/10000 (98.19%)\n",
            "\n",
            "EPOCH: 2 LR :  [0.008000059868926823]\n"
          ],
          "name": "stdout"
        },
        {
          "output_type": "stream",
          "text": [
            "Loss=0.098812 Batch_id=468 Accuracy=97.23: 100%|██████████| 469/469 [00:04<00:00, 113.02it/s]\n",
            "  0%|          | 0/469 [00:00<?, ?it/s]"
          ],
          "name": "stderr"
        },
        {
          "output_type": "stream",
          "text": [
            "\n",
            "Test set: Average loss: 0.0674, Accuracy: 9861/10000 (98.61%)\n",
            "\n",
            "EPOCH: 3 LR :  [0.008000239475632637]\n"
          ],
          "name": "stdout"
        },
        {
          "output_type": "stream",
          "text": [
            "Loss=0.078661 Batch_id=468 Accuracy=97.78: 100%|██████████| 469/469 [00:04<00:00, 112.97it/s]\n",
            "  0%|          | 0/469 [00:00<?, ?it/s]"
          ],
          "name": "stderr"
        },
        {
          "output_type": "stream",
          "text": [
            "\n",
            "Test set: Average loss: 0.0577, Accuracy: 9890/10000 (98.90%)\n",
            "\n",
            "EPOCH: 4 LR :  [0.008000538819893377]\n"
          ],
          "name": "stdout"
        },
        {
          "output_type": "stream",
          "text": [
            "Loss=0.066716 Batch_id=468 Accuracy=98.04: 100%|██████████| 469/469 [00:04<00:00, 112.64it/s]\n",
            "  0%|          | 0/469 [00:00<?, ?it/s]"
          ],
          "name": "stderr"
        },
        {
          "output_type": "stream",
          "text": [
            "\n",
            "Test set: Average loss: 0.0523, Accuracy: 9913/10000 (99.13%)\n",
            "\n",
            "EPOCH: 5 LR :  [0.008000957901335731]\n"
          ],
          "name": "stdout"
        },
        {
          "output_type": "stream",
          "text": [
            "Loss=0.063166 Batch_id=468 Accuracy=98.14: 100%|██████████| 469/469 [00:04<00:00, 113.19it/s]\n",
            "  0%|          | 0/469 [00:00<?, ?it/s]"
          ],
          "name": "stderr"
        },
        {
          "output_type": "stream",
          "text": [
            "\n",
            "Test set: Average loss: 0.0515, Accuracy: 9902/10000 (99.02%)\n",
            "\n",
            "EPOCH: 6 LR :  [0.008001496719436951]\n"
          ],
          "name": "stdout"
        },
        {
          "output_type": "stream",
          "text": [
            "Loss=0.058048 Batch_id=468 Accuracy=98.33: 100%|██████████| 469/469 [00:04<00:00, 113.95it/s]\n",
            "  0%|          | 0/469 [00:00<?, ?it/s]"
          ],
          "name": "stderr"
        },
        {
          "output_type": "stream",
          "text": [
            "\n",
            "Test set: Average loss: 0.0489, Accuracy: 9912/10000 (99.12%)\n",
            "\n",
            "EPOCH: 7 LR :  [0.008002155273525019]\n"
          ],
          "name": "stdout"
        },
        {
          "output_type": "stream",
          "text": [
            "Loss=0.056093 Batch_id=468 Accuracy=98.39: 100%|██████████| 469/469 [00:04<00:00, 110.72it/s]\n",
            "  0%|          | 0/469 [00:00<?, ?it/s]"
          ],
          "name": "stderr"
        },
        {
          "output_type": "stream",
          "text": [
            "\n",
            "Test set: Average loss: 0.0535, Accuracy: 9912/10000 (99.12%)\n",
            "\n",
            "EPOCH: 8 LR :  [0.008002933562778508]\n"
          ],
          "name": "stdout"
        },
        {
          "output_type": "stream",
          "text": [
            "Loss=0.052686 Batch_id=468 Accuracy=98.45: 100%|██████████| 469/469 [00:04<00:00, 111.80it/s]\n",
            "  0%|          | 0/469 [00:00<?, ?it/s]"
          ],
          "name": "stderr"
        },
        {
          "output_type": "stream",
          "text": [
            "\n",
            "Test set: Average loss: 0.0466, Accuracy: 9926/10000 (99.26%)\n",
            "\n",
            "EPOCH: 9 LR :  [0.008003831586226723]\n"
          ],
          "name": "stdout"
        },
        {
          "output_type": "stream",
          "text": [
            "Loss=0.052422 Batch_id=468 Accuracy=98.47: 100%|██████████| 469/469 [00:04<00:00, 112.64it/s]\n",
            "  0%|          | 0/469 [00:00<?, ?it/s]"
          ],
          "name": "stderr"
        },
        {
          "output_type": "stream",
          "text": [
            "\n",
            "Test set: Average loss: 0.0490, Accuracy: 9921/10000 (99.21%)\n",
            "\n",
            "EPOCH: 10 LR :  [0.008004849342749532]\n"
          ],
          "name": "stdout"
        },
        {
          "output_type": "stream",
          "text": [
            "Loss=0.049635 Batch_id=468 Accuracy=98.61: 100%|██████████| 469/469 [00:04<00:00, 109.22it/s]\n",
            "  0%|          | 0/469 [00:00<?, ?it/s]"
          ],
          "name": "stderr"
        },
        {
          "output_type": "stream",
          "text": [
            "\n",
            "Test set: Average loss: 0.0479, Accuracy: 9922/10000 (99.22%)\n",
            "\n",
            "EPOCH: 11 LR :  [0.00800598683107756]\n"
          ],
          "name": "stdout"
        },
        {
          "output_type": "stream",
          "text": [
            "Loss=0.048670 Batch_id=468 Accuracy=98.62: 100%|██████████| 469/469 [00:04<00:00, 112.66it/s]\n",
            "  0%|          | 0/469 [00:00<?, ?it/s]"
          ],
          "name": "stderr"
        },
        {
          "output_type": "stream",
          "text": [
            "\n",
            "Test set: Average loss: 0.0454, Accuracy: 9935/10000 (99.35%)\n",
            "\n",
            "EPOCH: 12 LR :  [0.008007244049792084]\n"
          ],
          "name": "stdout"
        },
        {
          "output_type": "stream",
          "text": [
            "Loss=0.049140 Batch_id=468 Accuracy=98.50: 100%|██████████| 469/469 [00:04<00:00, 112.41it/s]\n",
            "  0%|          | 0/469 [00:00<?, ?it/s]"
          ],
          "name": "stderr"
        },
        {
          "output_type": "stream",
          "text": [
            "\n",
            "Test set: Average loss: 0.0464, Accuracy: 9931/10000 (99.31%)\n",
            "\n",
            "EPOCH: 13 LR :  [0.008008620997324911]\n"
          ],
          "name": "stdout"
        },
        {
          "output_type": "stream",
          "text": [
            "Loss=0.044922 Batch_id=468 Accuracy=98.75: 100%|██████████| 469/469 [00:04<00:00, 109.47it/s]\n",
            "  0%|          | 0/469 [00:00<?, ?it/s]"
          ],
          "name": "stderr"
        },
        {
          "output_type": "stream",
          "text": [
            "\n",
            "Test set: Average loss: 0.0452, Accuracy: 9939/10000 (99.39%)\n",
            "\n",
            "EPOCH: 14 LR :  [0.008010117671958722]\n"
          ],
          "name": "stdout"
        },
        {
          "output_type": "stream",
          "text": [
            "Loss=0.043473 Batch_id=468 Accuracy=98.74: 100%|██████████| 469/469 [00:04<00:00, 116.65it/s]\n",
            "  0%|          | 0/469 [00:00<?, ?it/s]"
          ],
          "name": "stderr"
        },
        {
          "output_type": "stream",
          "text": [
            "\n",
            "Test set: Average loss: 0.0466, Accuracy: 9934/10000 (99.34%)\n",
            "\n",
            "EPOCH: 15 LR :  [0.008011734071826704]\n"
          ],
          "name": "stdout"
        },
        {
          "output_type": "stream",
          "text": [
            "Loss=0.045575 Batch_id=468 Accuracy=98.69: 100%|██████████| 469/469 [00:03<00:00, 117.75it/s]\n",
            "  0%|          | 0/469 [00:00<?, ?it/s]"
          ],
          "name": "stderr"
        },
        {
          "output_type": "stream",
          "text": [
            "\n",
            "Test set: Average loss: 0.0451, Accuracy: 9939/10000 (99.39%)\n",
            "\n",
            "EPOCH: 16 LR :  [0.008013470194912775]\n"
          ],
          "name": "stdout"
        },
        {
          "output_type": "stream",
          "text": [
            "Loss=0.042742 Batch_id=468 Accuracy=98.78: 100%|██████████| 469/469 [00:03<00:00, 118.03it/s]\n",
            "  0%|          | 0/469 [00:00<?, ?it/s]"
          ],
          "name": "stderr"
        },
        {
          "output_type": "stream",
          "text": [
            "\n",
            "Test set: Average loss: 0.0469, Accuracy: 9926/10000 (99.26%)\n",
            "\n",
            "EPOCH: 17 LR :  [0.008015326039051529]\n"
          ],
          "name": "stdout"
        },
        {
          "output_type": "stream",
          "text": [
            "Loss=0.042441 Batch_id=468 Accuracy=98.76: 100%|██████████| 469/469 [00:04<00:00, 115.58it/s]\n",
            "  0%|          | 0/469 [00:00<?, ?it/s]"
          ],
          "name": "stderr"
        },
        {
          "output_type": "stream",
          "text": [
            "\n",
            "Test set: Average loss: 0.0457, Accuracy: 9934/10000 (99.34%)\n",
            "\n",
            "EPOCH: 18 LR :  [0.008017301601928262]\n"
          ],
          "name": "stdout"
        },
        {
          "output_type": "stream",
          "text": [
            "Loss=0.042863 Batch_id=468 Accuracy=98.77: 100%|██████████| 469/469 [00:04<00:00, 115.34it/s]\n",
            "  0%|          | 0/469 [00:00<?, ?it/s]"
          ],
          "name": "stderr"
        },
        {
          "output_type": "stream",
          "text": [
            "\n",
            "Test set: Average loss: 0.0444, Accuracy: 9945/10000 (99.45%)\n",
            "\n",
            "EPOCH: 19 LR :  [0.00801939688107886]\n"
          ],
          "name": "stdout"
        },
        {
          "output_type": "stream",
          "text": [
            "Loss=0.040937 Batch_id=468 Accuracy=98.80: 100%|██████████| 469/469 [00:04<00:00, 116.38it/s]\n"
          ],
          "name": "stderr"
        },
        {
          "output_type": "stream",
          "text": [
            "\n",
            "Test set: Average loss: 0.0448, Accuracy: 9938/10000 (99.38%)\n",
            "\n",
            "Accuracy model on   L2+BN\n"
          ],
          "name": "stdout"
        },
        {
          "output_type": "display_data",
          "data": {
            "image/png": "[encoded data removed]",
            "text/plain": [
              "<Figure size 864x864 with 25 Axes>"
            ]
          },
          "metadata": {
            "tags": []
          }
        },
        {
          "output_type": "display_data",
          "data": {
            "image/png": "[encoded data removed]",
            "text/plain": [
              "<Figure size 1440x360 with 2 Axes>"
            ]
          },
          "metadata": {
            "tags": [],
            "needs_background": "light"
          }
        },
        {
          "output_type": "stream",
          "text": [
            "\r  0%|          | 0/469 [00:00<?, ?it/s]"
          ],
          "name": "stderr"
        },
        {
          "output_type": "stream",
          "text": [
            "GHOST BHAI is  False\n",
            "Model with  L1 & L2 + BN\n",
            "EPOCH: 1 LR :  [0.008000000000000007]\n"
          ],
          "name": "stdout"
        },
        {
          "output_type": "stream",
          "text": [
            "Loss=0.564634 Batch_id=468 Accuracy=84.38: 100%|██████████| 469/469 [00:04<00:00, 113.29it/s]\n",
            "  0%|          | 0/469 [00:00<?, ?it/s]"
          ],
          "name": "stderr"
        },
        {
          "output_type": "stream",
          "text": [
            "\n",
            "Test set: Average loss: 0.0966, Accuracy: 9793/10000 (97.93%)\n",
            "\n",
            "EPOCH: 2 LR :  [0.008000059868926823]\n"
          ],
          "name": "stdout"
        },
        {
          "output_type": "stream",
          "text": [
            "Loss=0.102327 Batch_id=468 Accuracy=97.12: 100%|██████████| 469/469 [00:04<00:00, 112.93it/s]\n",
            "  0%|          | 0/469 [00:00<?, ?it/s]"
          ],
          "name": "stderr"
        },
        {
          "output_type": "stream",
          "text": [
            "\n",
            "Test set: Average loss: 0.0681, Accuracy: 9853/10000 (98.53%)\n",
            "\n",
            "EPOCH: 3 LR :  [0.008000239475632637]\n"
          ],
          "name": "stdout"
        },
        {
          "output_type": "stream",
          "text": [
            "Loss=0.078994 Batch_id=468 Accuracy=97.78: 100%|██████████| 469/469 [00:04<00:00, 114.96it/s]\n",
            "  0%|          | 0/469 [00:00<?, ?it/s]"
          ],
          "name": "stderr"
        },
        {
          "output_type": "stream",
          "text": [
            "\n",
            "Test set: Average loss: 0.0541, Accuracy: 9901/10000 (99.01%)\n",
            "\n",
            "EPOCH: 4 LR :  [0.008000538819893377]\n"
          ],
          "name": "stdout"
        },
        {
          "output_type": "stream",
          "text": [
            "Loss=0.071619 Batch_id=468 Accuracy=97.91: 100%|██████████| 469/469 [00:04<00:00, 115.47it/s]\n",
            "  0%|          | 0/469 [00:00<?, ?it/s]"
          ],
          "name": "stderr"
        },
        {
          "output_type": "stream",
          "text": [
            "\n",
            "Test set: Average loss: 0.0568, Accuracy: 9880/10000 (98.80%)\n",
            "\n",
            "EPOCH: 5 LR :  [0.008000957901335731]\n"
          ],
          "name": "stdout"
        },
        {
          "output_type": "stream",
          "text": [
            "Loss=0.066593 Batch_id=468 Accuracy=98.05: 100%|██████████| 469/469 [00:04<00:00, 113.36it/s]\n",
            "  0%|          | 0/469 [00:00<?, ?it/s]"
          ],
          "name": "stderr"
        },
        {
          "output_type": "stream",
          "text": [
            "\n",
            "Test set: Average loss: 0.0497, Accuracy: 9909/10000 (99.09%)\n",
            "\n",
            "EPOCH: 6 LR :  [0.008001496719436951]\n"
          ],
          "name": "stdout"
        },
        {
          "output_type": "stream",
          "text": [
            "Loss=0.062104 Batch_id=468 Accuracy=98.11: 100%|██████████| 469/469 [00:04<00:00, 115.62it/s]\n",
            "  0%|          | 0/469 [00:00<?, ?it/s]"
          ],
          "name": "stderr"
        },
        {
          "output_type": "stream",
          "text": [
            "\n",
            "Test set: Average loss: 0.0456, Accuracy: 9931/10000 (99.31%)\n",
            "\n",
            "EPOCH: 7 LR :  [0.008002155273525019]\n"
          ],
          "name": "stdout"
        },
        {
          "output_type": "stream",
          "text": [
            "Loss=0.056330 Batch_id=468 Accuracy=98.36: 100%|██████████| 469/469 [00:04<00:00, 109.83it/s]\n",
            "  0%|          | 0/469 [00:00<?, ?it/s]"
          ],
          "name": "stderr"
        },
        {
          "output_type": "stream",
          "text": [
            "\n",
            "Test set: Average loss: 0.0477, Accuracy: 9931/10000 (99.31%)\n",
            "\n",
            "EPOCH: 8 LR :  [0.008002933562778508]\n"
          ],
          "name": "stdout"
        },
        {
          "output_type": "stream",
          "text": [
            "Loss=0.056056 Batch_id=468 Accuracy=98.36: 100%|██████████| 469/469 [00:04<00:00, 112.59it/s]\n",
            "  0%|          | 0/469 [00:00<?, ?it/s]"
          ],
          "name": "stderr"
        },
        {
          "output_type": "stream",
          "text": [
            "\n",
            "Test set: Average loss: 0.0466, Accuracy: 9926/10000 (99.26%)\n",
            "\n",
            "EPOCH: 9 LR :  [0.008003831586226723]\n"
          ],
          "name": "stdout"
        },
        {
          "output_type": "stream",
          "text": [
            "Loss=0.053565 Batch_id=468 Accuracy=98.44: 100%|██████████| 469/469 [00:04<00:00, 114.08it/s]\n",
            "  0%|          | 0/469 [00:00<?, ?it/s]"
          ],
          "name": "stderr"
        },
        {
          "output_type": "stream",
          "text": [
            "\n",
            "Test set: Average loss: 0.0488, Accuracy: 9921/10000 (99.21%)\n",
            "\n",
            "EPOCH: 10 LR :  [0.008004849342749532]\n"
          ],
          "name": "stdout"
        },
        {
          "output_type": "stream",
          "text": [
            "Loss=0.052288 Batch_id=468 Accuracy=98.47: 100%|██████████| 469/469 [00:03<00:00, 117.66it/s]\n",
            "  0%|          | 0/469 [00:00<?, ?it/s]"
          ],
          "name": "stderr"
        },
        {
          "output_type": "stream",
          "text": [
            "\n",
            "Test set: Average loss: 0.0496, Accuracy: 9928/10000 (99.28%)\n",
            "\n",
            "EPOCH: 11 LR :  [0.00800598683107756]\n"
          ],
          "name": "stdout"
        },
        {
          "output_type": "stream",
          "text": [
            "Loss=0.050556 Batch_id=468 Accuracy=98.49: 100%|██████████| 469/469 [00:03<00:00, 117.31it/s]\n",
            "  0%|          | 0/469 [00:00<?, ?it/s]"
          ],
          "name": "stderr"
        },
        {
          "output_type": "stream",
          "text": [
            "\n",
            "Test set: Average loss: 0.0485, Accuracy: 9925/10000 (99.25%)\n",
            "\n",
            "EPOCH: 12 LR :  [0.008007244049792084]\n"
          ],
          "name": "stdout"
        },
        {
          "output_type": "stream",
          "text": [
            "Loss=0.048544 Batch_id=468 Accuracy=98.61: 100%|██████████| 469/469 [00:04<00:00, 116.08it/s]\n",
            "  0%|          | 0/469 [00:00<?, ?it/s]"
          ],
          "name": "stderr"
        },
        {
          "output_type": "stream",
          "text": [
            "\n",
            "Test set: Average loss: 0.0473, Accuracy: 9924/10000 (99.24%)\n",
            "\n",
            "EPOCH: 13 LR :  [0.008008620997324911]\n"
          ],
          "name": "stdout"
        },
        {
          "output_type": "stream",
          "text": [
            "Loss=0.046638 Batch_id=468 Accuracy=98.64: 100%|██████████| 469/469 [00:04<00:00, 115.16it/s]\n",
            "  0%|          | 0/469 [00:00<?, ?it/s]"
          ],
          "name": "stderr"
        },
        {
          "output_type": "stream",
          "text": [
            "\n",
            "Test set: Average loss: 0.0499, Accuracy: 9929/10000 (99.29%)\n",
            "\n",
            "EPOCH: 14 LR :  [0.008010117671958722]\n"
          ],
          "name": "stdout"
        },
        {
          "output_type": "stream",
          "text": [
            "Loss=0.047589 Batch_id=468 Accuracy=98.61: 100%|██████████| 469/469 [00:04<00:00, 116.28it/s]\n",
            "  0%|          | 0/469 [00:00<?, ?it/s]"
          ],
          "name": "stderr"
        },
        {
          "output_type": "stream",
          "text": [
            "\n",
            "Test set: Average loss: 0.0496, Accuracy: 9923/10000 (99.23%)\n",
            "\n",
            "EPOCH: 15 LR :  [0.008011734071826704]\n"
          ],
          "name": "stdout"
        },
        {
          "output_type": "stream",
          "text": [
            "Loss=0.047116 Batch_id=468 Accuracy=98.62: 100%|██████████| 469/469 [00:03<00:00, 118.58it/s]\n",
            "  0%|          | 0/469 [00:00<?, ?it/s]"
          ],
          "name": "stderr"
        },
        {
          "output_type": "stream",
          "text": [
            "\n",
            "Test set: Average loss: 0.0475, Accuracy: 9935/10000 (99.35%)\n",
            "\n",
            "EPOCH: 16 LR :  [0.008013470194912775]\n"
          ],
          "name": "stdout"
        },
        {
          "output_type": "stream",
          "text": [
            "Loss=0.046238 Batch_id=468 Accuracy=98.62: 100%|██████████| 469/469 [00:04<00:00, 116.20it/s]\n",
            "  0%|          | 0/469 [00:00<?, ?it/s]"
          ],
          "name": "stderr"
        },
        {
          "output_type": "stream",
          "text": [
            "\n",
            "Test set: Average loss: 0.0480, Accuracy: 9936/10000 (99.36%)\n",
            "\n",
            "EPOCH: 17 LR :  [0.008015326039051529]\n"
          ],
          "name": "stdout"
        },
        {
          "output_type": "stream",
          "text": [
            "Loss=0.043677 Batch_id=468 Accuracy=98.71: 100%|██████████| 469/469 [00:04<00:00, 115.38it/s]\n",
            "  0%|          | 0/469 [00:00<?, ?it/s]"
          ],
          "name": "stderr"
        },
        {
          "output_type": "stream",
          "text": [
            "\n",
            "Test set: Average loss: 0.0522, Accuracy: 9917/10000 (99.17%)\n",
            "\n",
            "EPOCH: 18 LR :  [0.008017301601928262]\n"
          ],
          "name": "stdout"
        },
        {
          "output_type": "stream",
          "text": [
            "Loss=0.044745 Batch_id=468 Accuracy=98.72: 100%|██████████| 469/469 [00:04<00:00, 114.87it/s]\n",
            "  0%|          | 0/469 [00:00<?, ?it/s]"
          ],
          "name": "stderr"
        },
        {
          "output_type": "stream",
          "text": [
            "\n",
            "Test set: Average loss: 0.0482, Accuracy: 9935/10000 (99.35%)\n",
            "\n",
            "EPOCH: 19 LR :  [0.00801939688107886]\n"
          ],
          "name": "stdout"
        },
        {
          "output_type": "stream",
          "text": [
            "Loss=0.042797 Batch_id=468 Accuracy=98.75: 100%|██████████| 469/469 [00:04<00:00, 115.09it/s]\n"
          ],
          "name": "stderr"
        },
        {
          "output_type": "stream",
          "text": [
            "\n",
            "Test set: Average loss: 0.0481, Accuracy: 9932/10000 (99.32%)\n",
            "\n",
            "Accuracy model on   L1 & L2 + BN\n"
          ],
          "name": "stdout"
        },
        {
          "output_type": "display_data",
          "data": {
            "image/png": "[encoded data removed]",
            "text/plain": [
              "<Figure size 864x864 with 25 Axes>"
            ]
          },
          "metadata": {
            "tags": []
          }
        },
        {
          "output_type": "display_data",
          "data": {
            "image/png": "[encoded data removed]",
            "text/plain": [
              "<Figure size 1440x360 with 2 Axes>"
            ]
          },
          "metadata": {
            "tags": [],
            "needs_background": "light"
          }
        },
        {
          "output_type": "stream",
          "text": [
            "\r  0%|          | 0/469 [00:00<?, ?it/s]"
          ],
          "name": "stderr"
        },
        {
          "output_type": "stream",
          "text": [
            "GHOST BHAI is  True\n",
            "Model with  GBN\n",
            "EPOCH: 1 LR :  [0.008000000000000007]\n"
          ],
          "name": "stdout"
        },
        {
          "output_type": "stream",
          "text": [
            "Loss=0.598349 Batch_id=468 Accuracy=85.47: 100%|██████████| 469/469 [00:04<00:00, 115.88it/s]\n",
            "  0%|          | 0/469 [00:00<?, ?it/s]"
          ],
          "name": "stderr"
        },
        {
          "output_type": "stream",
          "text": [
            "\n",
            "Test set: Average loss: 0.1072, Accuracy: 9807/10000 (98.07%)\n",
            "\n",
            "EPOCH: 2 LR :  [0.008000059868926823]\n"
          ],
          "name": "stdout"
        },
        {
          "output_type": "stream",
          "text": [
            "Loss=0.128782 Batch_id=468 Accuracy=96.68: 100%|██████████| 469/469 [00:03<00:00, 117.65it/s]\n",
            "  0%|          | 0/469 [00:00<?, ?it/s]"
          ],
          "name": "stderr"
        },
        {
          "output_type": "stream",
          "text": [
            "\n",
            "Test set: Average loss: 0.0866, Accuracy: 9840/10000 (98.40%)\n",
            "\n",
            "EPOCH: 3 LR :  [0.008000239475632637]\n"
          ],
          "name": "stdout"
        },
        {
          "output_type": "stream",
          "text": [
            "Loss=0.094215 Batch_id=468 Accuracy=97.47: 100%|██████████| 469/469 [00:03<00:00, 117.66it/s]\n",
            "  0%|          | 0/469 [00:00<?, ?it/s]"
          ],
          "name": "stderr"
        },
        {
          "output_type": "stream",
          "text": [
            "\n",
            "Test set: Average loss: 0.0688, Accuracy: 9865/10000 (98.65%)\n",
            "\n",
            "EPOCH: 4 LR :  [0.008000538819893377]\n"
          ],
          "name": "stdout"
        },
        {
          "output_type": "stream",
          "text": [
            "Loss=0.081369 Batch_id=468 Accuracy=97.79: 100%|██████████| 469/469 [00:03<00:00, 117.76it/s]\n",
            "  0%|          | 0/469 [00:00<?, ?it/s]"
          ],
          "name": "stderr"
        },
        {
          "output_type": "stream",
          "text": [
            "\n",
            "Test set: Average loss: 0.0616, Accuracy: 9893/10000 (98.93%)\n",
            "\n",
            "EPOCH: 5 LR :  [0.008000957901335731]\n"
          ],
          "name": "stdout"
        },
        {
          "output_type": "stream",
          "text": [
            "Loss=0.074554 Batch_id=468 Accuracy=97.93: 100%|██████████| 469/469 [00:03<00:00, 118.19it/s]\n",
            "  0%|          | 0/469 [00:00<?, ?it/s]"
          ],
          "name": "stderr"
        },
        {
          "output_type": "stream",
          "text": [
            "\n",
            "Test set: Average loss: 0.0572, Accuracy: 9911/10000 (99.11%)\n",
            "\n",
            "EPOCH: 6 LR :  [0.008001496719436951]\n"
          ],
          "name": "stdout"
        },
        {
          "output_type": "stream",
          "text": [
            "Loss=0.067850 Batch_id=468 Accuracy=98.18: 100%|██████████| 469/469 [00:04<00:00, 111.33it/s]\n",
            "  0%|          | 0/469 [00:00<?, ?it/s]"
          ],
          "name": "stderr"
        },
        {
          "output_type": "stream",
          "text": [
            "\n",
            "Test set: Average loss: 0.0514, Accuracy: 9924/10000 (99.24%)\n",
            "\n",
            "EPOCH: 7 LR :  [0.008002155273525019]\n"
          ],
          "name": "stdout"
        },
        {
          "output_type": "stream",
          "text": [
            "Loss=0.063016 Batch_id=468 Accuracy=98.25: 100%|██████████| 469/469 [00:03<00:00, 117.77it/s]\n",
            "  0%|          | 0/469 [00:00<?, ?it/s]"
          ],
          "name": "stderr"
        },
        {
          "output_type": "stream",
          "text": [
            "\n",
            "Test set: Average loss: 0.0552, Accuracy: 9904/10000 (99.04%)\n",
            "\n",
            "EPOCH: 8 LR :  [0.008002933562778508]\n"
          ],
          "name": "stdout"
        },
        {
          "output_type": "stream",
          "text": [
            "Loss=0.059423 Batch_id=468 Accuracy=98.31: 100%|██████████| 469/469 [00:04<00:00, 116.51it/s]\n",
            "  0%|          | 0/469 [00:00<?, ?it/s]"
          ],
          "name": "stderr"
        },
        {
          "output_type": "stream",
          "text": [
            "\n",
            "Test set: Average loss: 0.0559, Accuracy: 9906/10000 (99.06%)\n",
            "\n",
            "EPOCH: 9 LR :  [0.008003831586226723]\n"
          ],
          "name": "stdout"
        },
        {
          "output_type": "stream",
          "text": [
            "Loss=0.059246 Batch_id=468 Accuracy=98.33: 100%|██████████| 469/469 [00:03<00:00, 117.97it/s]\n",
            "  0%|          | 0/469 [00:00<?, ?it/s]"
          ],
          "name": "stderr"
        },
        {
          "output_type": "stream",
          "text": [
            "\n",
            "Test set: Average loss: 0.0528, Accuracy: 9924/10000 (99.24%)\n",
            "\n",
            "EPOCH: 10 LR :  [0.008004849342749532]\n"
          ],
          "name": "stdout"
        },
        {
          "output_type": "stream",
          "text": [
            "Loss=0.057030 Batch_id=468 Accuracy=98.43: 100%|██████████| 469/469 [00:03<00:00, 118.74it/s]\n",
            "  0%|          | 0/469 [00:00<?, ?it/s]"
          ],
          "name": "stderr"
        },
        {
          "output_type": "stream",
          "text": [
            "\n",
            "Test set: Average loss: 0.0512, Accuracy: 9923/10000 (99.23%)\n",
            "\n",
            "EPOCH: 11 LR :  [0.00800598683107756]\n"
          ],
          "name": "stdout"
        },
        {
          "output_type": "stream",
          "text": [
            "Loss=0.053920 Batch_id=468 Accuracy=98.52: 100%|██████████| 469/469 [00:03<00:00, 117.50it/s]\n",
            "  0%|          | 0/469 [00:00<?, ?it/s]"
          ],
          "name": "stderr"
        },
        {
          "output_type": "stream",
          "text": [
            "\n",
            "Test set: Average loss: 0.0507, Accuracy: 9925/10000 (99.25%)\n",
            "\n",
            "EPOCH: 12 LR :  [0.008007244049792084]\n"
          ],
          "name": "stdout"
        },
        {
          "output_type": "stream",
          "text": [
            "Loss=0.053136 Batch_id=468 Accuracy=98.55: 100%|██████████| 469/469 [00:04<00:00, 114.12it/s]\n",
            "  0%|          | 0/469 [00:00<?, ?it/s]"
          ],
          "name": "stderr"
        },
        {
          "output_type": "stream",
          "text": [
            "\n",
            "Test set: Average loss: 0.0513, Accuracy: 9926/10000 (99.26%)\n",
            "\n",
            "EPOCH: 13 LR :  [0.008008620997324911]\n"
          ],
          "name": "stdout"
        },
        {
          "output_type": "stream",
          "text": [
            "Loss=0.053334 Batch_id=468 Accuracy=98.53: 100%|██████████| 469/469 [00:04<00:00, 111.90it/s]\n",
            "  0%|          | 0/469 [00:00<?, ?it/s]"
          ],
          "name": "stderr"
        },
        {
          "output_type": "stream",
          "text": [
            "\n",
            "Test set: Average loss: 0.0504, Accuracy: 9930/10000 (99.30%)\n",
            "\n",
            "EPOCH: 14 LR :  [0.008010117671958722]\n"
          ],
          "name": "stdout"
        },
        {
          "output_type": "stream",
          "text": [
            "Loss=0.051288 Batch_id=468 Accuracy=98.58: 100%|██████████| 469/469 [00:04<00:00, 115.07it/s]\n",
            "  0%|          | 0/469 [00:00<?, ?it/s]"
          ],
          "name": "stderr"
        },
        {
          "output_type": "stream",
          "text": [
            "\n",
            "Test set: Average loss: 0.0513, Accuracy: 9924/10000 (99.24%)\n",
            "\n",
            "EPOCH: 15 LR :  [0.008011734071826704]\n"
          ],
          "name": "stdout"
        },
        {
          "output_type": "stream",
          "text": [
            "Loss=0.050631 Batch_id=468 Accuracy=98.59: 100%|██████████| 469/469 [00:04<00:00, 115.69it/s]\n",
            "  0%|          | 0/469 [00:00<?, ?it/s]"
          ],
          "name": "stderr"
        },
        {
          "output_type": "stream",
          "text": [
            "\n",
            "Test set: Average loss: 0.0511, Accuracy: 9928/10000 (99.28%)\n",
            "\n",
            "EPOCH: 16 LR :  [0.008013470194912775]\n"
          ],
          "name": "stdout"
        },
        {
          "output_type": "stream",
          "text": [
            "Loss=0.049472 Batch_id=468 Accuracy=98.60: 100%|██████████| 469/469 [00:03<00:00, 117.73it/s]\n",
            "  0%|          | 0/469 [00:00<?, ?it/s]"
          ],
          "name": "stderr"
        },
        {
          "output_type": "stream",
          "text": [
            "\n",
            "Test set: Average loss: 0.0520, Accuracy: 9921/10000 (99.21%)\n",
            "\n",
            "EPOCH: 17 LR :  [0.008015326039051529]\n"
          ],
          "name": "stdout"
        },
        {
          "output_type": "stream",
          "text": [
            "Loss=0.047703 Batch_id=468 Accuracy=98.66: 100%|██████████| 469/469 [00:03<00:00, 118.39it/s]\n",
            "  0%|          | 0/469 [00:00<?, ?it/s]"
          ],
          "name": "stderr"
        },
        {
          "output_type": "stream",
          "text": [
            "\n",
            "Test set: Average loss: 0.0507, Accuracy: 9931/10000 (99.31%)\n",
            "\n",
            "EPOCH: 18 LR :  [0.008017301601928262]\n"
          ],
          "name": "stdout"
        },
        {
          "output_type": "stream",
          "text": [
            "Loss=0.048069 Batch_id=468 Accuracy=98.69: 100%|██████████| 469/469 [00:04<00:00, 113.91it/s]\n",
            "  0%|          | 0/469 [00:00<?, ?it/s]"
          ],
          "name": "stderr"
        },
        {
          "output_type": "stream",
          "text": [
            "\n",
            "Test set: Average loss: 0.0499, Accuracy: 9931/10000 (99.31%)\n",
            "\n",
            "EPOCH: 19 LR :  [0.00801939688107886]\n"
          ],
          "name": "stdout"
        },
        {
          "output_type": "stream",
          "text": [
            "Loss=0.048028 Batch_id=468 Accuracy=98.59: 100%|██████████| 469/469 [00:04<00:00, 116.69it/s]\n"
          ],
          "name": "stderr"
        },
        {
          "output_type": "stream",
          "text": [
            "\n",
            "Test set: Average loss: 0.0492, Accuracy: 9940/10000 (99.40%)\n",
            "\n",
            "Accuracy model on   GBN\n"
          ],
          "name": "stdout"
        },
        {
          "output_type": "display_data",
          "data": {
            "image/png": "[encoded data removed]",
            "text/plain": [
              "<Figure size 864x864 with 25 Axes>"
            ]
          },
          "metadata": {
            "tags": []
          }
        },
        {
          "output_type": "display_data",
          "data": {
            "image/png": "[encoded data removed]",
            "text/plain": [
              "<Figure size 1440x360 with 2 Axes>"
            ]
          },
          "metadata": {
            "tags": [],
            "needs_background": "light"
          }
        },
        {
          "output_type": "stream",
          "text": [
            "\r  0%|          | 0/469 [00:00<?, ?it/s]"
          ],
          "name": "stderr"
        },
        {
          "output_type": "stream",
          "text": [
            "GHOST BHAI is  True\n",
            "Model with  L1 & L2 + GBN\n",
            "EPOCH: 1 LR :  [0.008000000000000007]\n"
          ],
          "name": "stdout"
        },
        {
          "output_type": "stream",
          "text": [
            "Loss=0.651379 Batch_id=468 Accuracy=82.36: 100%|██████████| 469/469 [00:04<00:00, 115.61it/s]\n",
            "  0%|          | 0/469 [00:00<?, ?it/s]"
          ],
          "name": "stderr"
        },
        {
          "output_type": "stream",
          "text": [
            "\n",
            "Test set: Average loss: 0.1053, Accuracy: 9832/10000 (98.32%)\n",
            "\n",
            "EPOCH: 2 LR :  [0.008000059868926823]\n"
          ],
          "name": "stdout"
        },
        {
          "output_type": "stream",
          "text": [
            "Loss=0.120899 Batch_id=468 Accuracy=96.96: 100%|██████████| 469/469 [00:04<00:00, 116.71it/s]\n",
            "  0%|          | 0/469 [00:00<?, ?it/s]"
          ],
          "name": "stderr"
        },
        {
          "output_type": "stream",
          "text": [
            "\n",
            "Test set: Average loss: 0.0751, Accuracy: 9870/10000 (98.70%)\n",
            "\n",
            "EPOCH: 3 LR :  [0.008000239475632637]\n"
          ],
          "name": "stdout"
        },
        {
          "output_type": "stream",
          "text": [
            "Loss=0.091327 Batch_id=468 Accuracy=97.61: 100%|██████████| 469/469 [00:04<00:00, 116.41it/s]\n",
            "  0%|          | 0/469 [00:00<?, ?it/s]"
          ],
          "name": "stderr"
        },
        {
          "output_type": "stream",
          "text": [
            "\n",
            "Test set: Average loss: 0.0669, Accuracy: 9869/10000 (98.69%)\n",
            "\n",
            "EPOCH: 4 LR :  [0.008000538819893377]\n"
          ],
          "name": "stdout"
        },
        {
          "output_type": "stream",
          "text": [
            "Loss=0.077814 Batch_id=468 Accuracy=97.91: 100%|██████████| 469/469 [00:04<00:00, 115.83it/s]\n",
            "  0%|          | 0/469 [00:00<?, ?it/s]"
          ],
          "name": "stderr"
        },
        {
          "output_type": "stream",
          "text": [
            "\n",
            "Test set: Average loss: 0.0620, Accuracy: 9884/10000 (98.84%)\n",
            "\n",
            "EPOCH: 5 LR :  [0.008000957901335731]\n"
          ],
          "name": "stdout"
        },
        {
          "output_type": "stream",
          "text": [
            "Loss=0.071846 Batch_id=468 Accuracy=98.02: 100%|██████████| 469/469 [00:04<00:00, 115.07it/s]\n",
            "  0%|          | 0/469 [00:00<?, ?it/s]"
          ],
          "name": "stderr"
        },
        {
          "output_type": "stream",
          "text": [
            "\n",
            "Test set: Average loss: 0.0565, Accuracy: 9893/10000 (98.93%)\n",
            "\n",
            "EPOCH: 6 LR :  [0.008001496719436951]\n"
          ],
          "name": "stdout"
        },
        {
          "output_type": "stream",
          "text": [
            "Loss=0.067153 Batch_id=468 Accuracy=98.13: 100%|██████████| 469/469 [00:03<00:00, 117.62it/s]\n",
            "  0%|          | 0/469 [00:00<?, ?it/s]"
          ],
          "name": "stderr"
        },
        {
          "output_type": "stream",
          "text": [
            "\n",
            "Test set: Average loss: 0.0528, Accuracy: 9915/10000 (99.15%)\n",
            "\n",
            "EPOCH: 7 LR :  [0.008002155273525019]\n"
          ],
          "name": "stdout"
        },
        {
          "output_type": "stream",
          "text": [
            "Loss=0.063134 Batch_id=468 Accuracy=98.27: 100%|██████████| 469/469 [00:03<00:00, 117.42it/s]\n",
            "  0%|          | 0/469 [00:00<?, ?it/s]"
          ],
          "name": "stderr"
        },
        {
          "output_type": "stream",
          "text": [
            "\n",
            "Test set: Average loss: 0.0509, Accuracy: 9922/10000 (99.22%)\n",
            "\n",
            "EPOCH: 8 LR :  [0.008002933562778508]\n"
          ],
          "name": "stdout"
        },
        {
          "output_type": "stream",
          "text": [
            "Loss=0.062743 Batch_id=468 Accuracy=98.28: 100%|██████████| 469/469 [00:03<00:00, 118.54it/s]\n",
            "  0%|          | 0/469 [00:00<?, ?it/s]"
          ],
          "name": "stderr"
        },
        {
          "output_type": "stream",
          "text": [
            "\n",
            "Test set: Average loss: 0.0504, Accuracy: 9922/10000 (99.22%)\n",
            "\n",
            "EPOCH: 9 LR :  [0.008003831586226723]\n"
          ],
          "name": "stdout"
        },
        {
          "output_type": "stream",
          "text": [
            "Loss=0.057358 Batch_id=468 Accuracy=98.41: 100%|██████████| 469/469 [00:03<00:00, 118.35it/s]\n",
            "  0%|          | 0/469 [00:00<?, ?it/s]"
          ],
          "name": "stderr"
        },
        {
          "output_type": "stream",
          "text": [
            "\n",
            "Test set: Average loss: 0.0509, Accuracy: 9918/10000 (99.18%)\n",
            "\n",
            "EPOCH: 10 LR :  [0.008004849342749532]\n"
          ],
          "name": "stdout"
        },
        {
          "output_type": "stream",
          "text": [
            "Loss=0.055942 Batch_id=468 Accuracy=98.42: 100%|██████████| 469/469 [00:03<00:00, 118.23it/s]\n",
            "  0%|          | 0/469 [00:00<?, ?it/s]"
          ],
          "name": "stderr"
        },
        {
          "output_type": "stream",
          "text": [
            "\n",
            "Test set: Average loss: 0.0538, Accuracy: 9917/10000 (99.17%)\n",
            "\n",
            "EPOCH: 11 LR :  [0.00800598683107756]\n"
          ],
          "name": "stdout"
        },
        {
          "output_type": "stream",
          "text": [
            "Loss=0.055031 Batch_id=468 Accuracy=98.46: 100%|██████████| 469/469 [00:03<00:00, 117.32it/s]\n",
            "  0%|          | 0/469 [00:00<?, ?it/s]"
          ],
          "name": "stderr"
        },
        {
          "output_type": "stream",
          "text": [
            "\n",
            "Test set: Average loss: 0.0528, Accuracy: 9921/10000 (99.21%)\n",
            "\n",
            "EPOCH: 12 LR :  [0.008007244049792084]\n"
          ],
          "name": "stdout"
        },
        {
          "output_type": "stream",
          "text": [
            "Loss=0.054711 Batch_id=468 Accuracy=98.46: 100%|██████████| 469/469 [00:03<00:00, 119.54it/s]\n",
            "  0%|          | 0/469 [00:00<?, ?it/s]"
          ],
          "name": "stderr"
        },
        {
          "output_type": "stream",
          "text": [
            "\n",
            "Test set: Average loss: 0.0502, Accuracy: 9921/10000 (99.21%)\n",
            "\n",
            "EPOCH: 13 LR :  [0.008008620997324911]\n"
          ],
          "name": "stdout"
        },
        {
          "output_type": "stream",
          "text": [
            "Loss=0.053522 Batch_id=468 Accuracy=98.48: 100%|██████████| 469/469 [00:03<00:00, 117.30it/s]\n",
            "  0%|          | 0/469 [00:00<?, ?it/s]"
          ],
          "name": "stderr"
        },
        {
          "output_type": "stream",
          "text": [
            "\n",
            "Test set: Average loss: 0.0519, Accuracy: 9920/10000 (99.20%)\n",
            "\n",
            "EPOCH: 14 LR :  [0.008010117671958722]\n"
          ],
          "name": "stdout"
        },
        {
          "output_type": "stream",
          "text": [
            "Loss=0.051470 Batch_id=468 Accuracy=98.62: 100%|██████████| 469/469 [00:04<00:00, 116.38it/s]\n",
            "  0%|          | 0/469 [00:00<?, ?it/s]"
          ],
          "name": "stderr"
        },
        {
          "output_type": "stream",
          "text": [
            "\n",
            "Test set: Average loss: 0.0534, Accuracy: 9920/10000 (99.20%)\n",
            "\n",
            "EPOCH: 15 LR :  [0.008011734071826704]\n"
          ],
          "name": "stdout"
        },
        {
          "output_type": "stream",
          "text": [
            "Loss=0.050804 Batch_id=468 Accuracy=98.59: 100%|██████████| 469/469 [00:04<00:00, 117.14it/s]\n",
            "  0%|          | 0/469 [00:00<?, ?it/s]"
          ],
          "name": "stderr"
        },
        {
          "output_type": "stream",
          "text": [
            "\n",
            "Test set: Average loss: 0.0521, Accuracy: 9922/10000 (99.22%)\n",
            "\n",
            "EPOCH: 16 LR :  [0.008013470194912775]\n"
          ],
          "name": "stdout"
        },
        {
          "output_type": "stream",
          "text": [
            "Loss=0.049370 Batch_id=468 Accuracy=98.62: 100%|██████████| 469/469 [00:04<00:00, 116.83it/s]\n",
            "  0%|          | 0/469 [00:00<?, ?it/s]"
          ],
          "name": "stderr"
        },
        {
          "output_type": "stream",
          "text": [
            "\n",
            "Test set: Average loss: 0.0494, Accuracy: 9925/10000 (99.25%)\n",
            "\n",
            "EPOCH: 17 LR :  [0.008015326039051529]\n"
          ],
          "name": "stdout"
        },
        {
          "output_type": "stream",
          "text": [
            "Loss=0.047716 Batch_id=468 Accuracy=98.71: 100%|██████████| 469/469 [00:03<00:00, 117.60it/s]\n",
            "  0%|          | 0/469 [00:00<?, ?it/s]"
          ],
          "name": "stderr"
        },
        {
          "output_type": "stream",
          "text": [
            "\n",
            "Test set: Average loss: 0.0537, Accuracy: 9919/10000 (99.19%)\n",
            "\n",
            "EPOCH: 18 LR :  [0.008017301601928262]\n"
          ],
          "name": "stdout"
        },
        {
          "output_type": "stream",
          "text": [
            "Loss=0.048406 Batch_id=468 Accuracy=98.67: 100%|██████████| 469/469 [00:03<00:00, 118.84it/s]\n",
            "  0%|          | 0/469 [00:00<?, ?it/s]"
          ],
          "name": "stderr"
        },
        {
          "output_type": "stream",
          "text": [
            "\n",
            "Test set: Average loss: 0.0506, Accuracy: 9923/10000 (99.23%)\n",
            "\n",
            "EPOCH: 19 LR :  [0.00801939688107886]\n"
          ],
          "name": "stdout"
        },
        {
          "output_type": "stream",
          "text": [
            "Loss=0.046845 Batch_id=468 Accuracy=98.70: 100%|██████████| 469/469 [00:03<00:00, 117.74it/s]\n"
          ],
          "name": "stderr"
        },
        {
          "output_type": "stream",
          "text": [
            "\n",
            "Test set: Average loss: 0.0516, Accuracy: 9925/10000 (99.25%)\n",
            "\n",
            "Accuracy model on   L1 & L2 + GBN\n"
          ],
          "name": "stdout"
        },
        {
          "output_type": "display_data",
          "data": {
            "image/png": "[encoded data removed]",
            "text/plain": [
              "<Figure size 864x864 with 25 Axes>"
            ]
          },
          "metadata": {
            "tags": []
          }
        },
        {
          "output_type": "display_data",
          "data": {
            "image/png": "[encoded data removed]",
            "text/plain": [
              "<Figure size 1440x360 with 2 Axes>"
            ]
          },
          "metadata": {
            "tags": [],
            "needs_background": "light"
          }
        },
        {
          "output_type": "display_data",
          "data": {
            "image/png": "[encoded data removed]",
            "text/plain": [
              "<Figure size 864x864 with 25 Axes>"
            ]
          },
          "metadata": {
            "tags": []
          }
        }
      ]
    },
    {
      "cell_type": "code",
      "metadata": {
        "id": "vhginXjSvrj2",
        "colab_type": "code",
        "colab": {}
      },
      "source": [
        ""
      ],
      "execution_count": null,
      "outputs": []
    },
    {
      "cell_type": "code",
      "metadata": {
        "id": "wTLzbZjwvrj6",
        "colab_type": "code",
        "colab": {}
      },
      "source": [
        ""
      ],
      "execution_count": null,
      "outputs": []
    },
    {
      "cell_type": "code",
      "metadata": {
        "id": "WOM-dEuSvrj9",
        "colab_type": "code",
        "colab": {}
      },
      "source": [
        ""
      ],
      "execution_count": null,
      "outputs": []
    }
  ]
}