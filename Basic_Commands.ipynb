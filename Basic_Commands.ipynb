{
  "nbformat": 4,
  "nbformat_minor": 0,
  "metadata": {
    "colab": {
      "name": "Basic_Commands.ipynb",
      "provenance": [],
      "authorship_tag": "ABX9TyOCxNIAc9brbkQyiq66kKy1",
      "include_colab_link": true
    },
    "kernelspec": {
      "name": "python3",
      "display_name": "Python 3"
    },
    "accelerator": "GPU"
  },
  "cells": [
    {
      "cell_type": "markdown",
      "metadata": {
        "id": "view-in-github",
        "colab_type": "text"
      },
      "source": [
        "<a href=\"https://colab.research.google.com/github/PrashantShinagare/EVA5/blob/master/Basic_Commands.ipynb\" target=\"_parent\"><img src=\"https://colab.research.google.com/assets/colab-badge.svg\" alt=\"Open In Colab\"/></a>"
      ]
    },
    {
      "cell_type": "code",
      "metadata": {
        "id": "5WSFXblSGMcg",
        "outputId": "73601e54-2906-40aa-a27c-fdf83802696b",
        "colab": {
          "base_uri": "https://localhost:8080/",
          "height": 34
        }
      },
      "source": [
        "!pwd"
      ],
      "execution_count": 15,
      "outputs": [
        {
          "output_type": "stream",
          "text": [
            "/content/CloneFromAnujshah1003CNN\n"
          ],
          "name": "stdout"
        }
      ]
    },
    {
      "cell_type": "code",
      "metadata": {
        "id": "_kRf7OUHIDgE"
      },
      "source": [
        "cd sample_data\n",
        "ls\n",
        "cd /"
      ],
      "execution_count": null,
      "outputs": []
    },
    {
      "cell_type": "code",
      "metadata": {
        "id": "S3T6AQ8lRFdo"
      },
      "source": [
        "!git clone https://github.com/miki998/YoloV3_Annotation_Tool.git"
      ],
      "execution_count": null,
      "outputs": []
    },
    {
      "cell_type": "code",
      "metadata": {
        "id": "gPFaCeI1TFFU"
      },
      "source": [
        "!git clone https://github.com/pilhuhn/ZwitscherA.git"
      ],
      "execution_count": null,
      "outputs": []
    },
    {
      "cell_type": "code",
      "metadata": {
        "id": "ciEYOteAW4My",
        "outputId": "17ca8137-a553-4d55-eb78-936714644e44",
        "colab": {
          "base_uri": "https://localhost:8080/",
          "height": 34
        }
      },
      "source": [
        "cd CloneFromAnujshah1003CNN/\n",
        "\n",
        "rm -rf YoloV3_Annotation_Tool-master.zip"
      ],
      "execution_count": 19,
      "outputs": [
        {
          "output_type": "stream",
          "text": [
            "/content/CloneFromAnujshah1003CNN\n"
          ],
          "name": "stdout"
        }
      ]
    },
    {
      "cell_type": "code",
      "metadata": {
        "id": "MJyRgfTYTOR9"
      },
      "source": [
        "from zipfile import ZipFile\n",
        "\n",
        "name = 'YoloV3_Annotation_Tool-master.zip'\n",
        "\n",
        "#Opening the zip file in the read me mode\n",
        "\n",
        "with ZipFile(name, 'r') as zip:\n",
        "  print(\"Extracting of file now...\")\n",
        "  zip.extractall()\n",
        "  print(\"Done\")\n"
      ],
      "execution_count": 4,
      "outputs": []
    },
    {
      "cell_type": "code",
      "metadata": {
        "id": "lu8A3lpNZNKA"
      },
      "source": [
        "!pip install -q keras"
      ],
      "execution_count": 5,
      "outputs": []
    },
    {
      "cell_type": "code",
      "metadata": {
        "id": "ya5xYO6mZU6y"
      },
      "source": [
        "from tensorflow.python.client import device_lib\n",
        "device_lib.list_local_devices()"
      ],
      "execution_count": null,
      "outputs": []
    },
    {
      "cell_type": "code",
      "metadata": {
        "id": "_nAIABzBaEBS"
      },
      "source": [
        "cat /proc/cpuinfo\n",
        "cat /proc/meminfo"
      ],
      "execution_count": null,
      "outputs": []
    },
    {
      "cell_type": "code",
      "metadata": {
        "id": "IH87Bka9h65t"
      },
      "source": [
        "import tensorflow as tf\n",
        "tf.nn?"
      ],
      "execution_count": 19,
      "outputs": []
    },
    {
      "cell_type": "code",
      "metadata": {
        "id": "1lZQJL0moOav"
      },
      "source": [
        "mkdir Prash\n",
        "cd Prash"
      ],
      "execution_count": null,
      "outputs": []
    },
    {
      "cell_type": "code",
      "metadata": {
        "id": "mWUr98__tCUc"
      },
      "source": [
        "from google.colab import files\n",
        "upload = files.upload()"
      ],
      "execution_count": null,
      "outputs": []
    },
    {
      "cell_type": "code",
      "metadata": {
        "id": "KKDidmjevqyo",
        "outputId": "d48d301d-81c5-4f9e-a579-c3a29d7d4765",
        "colab": {
          "base_uri": "https://localhost:8080/",
          "height": 34
        }
      },
      "source": [
        "from add_file import state\n",
        "state(2)"
      ],
      "execution_count": 29,
      "outputs": [
        {
          "output_type": "stream",
          "text": [
            "18\n"
          ],
          "name": "stdout"
        }
      ]
    }
  ]
}