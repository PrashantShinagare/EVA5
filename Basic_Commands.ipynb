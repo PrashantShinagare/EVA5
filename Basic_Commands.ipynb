{
  "nbformat": 4,
  "nbformat_minor": 0,
  "metadata": {
    "colab": {
      "name": "Basic_Commands.ipynb",
      "provenance": [],
      "authorship_tag": "ABX9TyPIwhUw0GZm/yQcvPBuYpOX",
      "include_colab_link": true
    },
    "kernelspec": {
      "name": "python3",
      "display_name": "Python 3"
    },
    "accelerator": "GPU"
  },
  "cells": [
    {
      "cell_type": "markdown",
      "metadata": {
        "id": "view-in-github",
        "colab_type": "text"
      },
      "source": [
        "<a href=\"https://colab.research.google.com/github/PrashantShinagare/EVA5/blob/master/Basic_Commands.ipynb\" target=\"_parent\"><img src=\"https://colab.research.google.com/assets/colab-badge.svg\" alt=\"Open In Colab\"/></a>"
      ]
    },
    {
      "cell_type": "code",
      "metadata": {
        "id": "5WSFXblSGMcg",
        "outputId": "73601e54-2906-40aa-a27c-fdf83802696b",
        "colab": {
          "base_uri": "https://localhost:8080/",
          "height": 34
        }
      },
      "source": [
        "!pwd"
      ],
      "execution_count": 15,
      "outputs": [
        {
          "output_type": "stream",
          "text": [
            "/content/CloneFromAnujshah1003CNN\n"
          ],
          "name": "stdout"
        }
      ]
    },
    {
      "cell_type": "code",
      "metadata": {
        "id": "_kRf7OUHIDgE"
      },
      "source": [
        "cd sample_data\n",
        "ls"
      ],
      "execution_count": null,
      "outputs": []
    },
    {
      "cell_type": "code",
      "metadata": {
        "id": "S3T6AQ8lRFdo"
      },
      "source": [
        "!git clone https://github.com/miki998/YoloV3_Annotation_Tool.git"
      ],
      "execution_count": null,
      "outputs": []
    },
    {
      "cell_type": "code",
      "metadata": {
        "id": "gPFaCeI1TFFU"
      },
      "source": [
        "!git clone https://github.com/pilhuhn/ZwitscherA.git"
      ],
      "execution_count": null,
      "outputs": []
    },
    {
      "cell_type": "code",
      "metadata": {
        "id": "ciEYOteAW4My",
        "outputId": "17ca8137-a553-4d55-eb78-936714644e44",
        "colab": {
          "base_uri": "https://localhost:8080/",
          "height": 34
        }
      },
      "source": [
        "cd CloneFromAnujshah1003CNN/"
      ],
      "execution_count": 19,
      "outputs": [
        {
          "output_type": "stream",
          "text": [
            "/content/CloneFromAnujshah1003CNN\n"
          ],
          "name": "stdout"
        }
      ]
    },
    {
      "cell_type": "code",
      "metadata": {
        "id": "n8-ur3C8XBw4"
      },
      "source": [
        "from zipfile import ZipFile\n",
        "file_name = 'data.zip'\n",
        "\n",
        "#Opening the zip file in the read me mode\n",
        "\n",
        "with ZipFile(file_name, 'r') as zip:\n",
        "  print('Extrating of the file now...')\n",
        "  zip.extractall()\n",
        "  print('Done')\n",
        "\n"
      ],
      "execution_count": null,
      "outputs": []
    },
    {
      "cell_type": "code",
      "metadata": {
        "id": "MJyRgfTYTOR9"
      },
      "source": [
        "cd /\n",
        "ls\n",
        "cd content\n",
        "rm -rf YoloV3_Annotation_Tool-master.zip\n",
        "\n",
        "from zipfile import ZipFile\n",
        "\n",
        "name = 'YoloV3_Annotation_Tool-master.zip'\n",
        "\n",
        "with ZipFile(name, 'r') as zip:\n",
        "  print(\"Extracting of file now...\")\n",
        "  zip.extractall()\n",
        "  print(\"Done\")\n"
      ],
      "execution_count": 4,
      "outputs": []
    }
  ]
}