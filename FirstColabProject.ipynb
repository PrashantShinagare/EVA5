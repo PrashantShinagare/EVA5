{
  "nbformat": 4,
  "nbformat_minor": 0,
  "metadata": {
    "colab": {
      "name": "FirstColabProject.ipynb",
      "provenance": [],
      "authorship_tag": "ABX9TyO/UCg79oR2siuiuY7EiG+M",
      "include_colab_link": true
    },
    "kernelspec": {
      "name": "python3",
      "display_name": "Python 3"
    }
  },
  "cells": [
    {
      "cell_type": "markdown",
      "metadata": {
        "id": "view-in-github",
        "colab_type": "text"
      },
      "source": [
        "<a href=\"https://colab.research.google.com/github/PrashantShinagare/EVA5/blob/master/FirstColabProject.ipynb\" target=\"_parent\"><img src=\"https://colab.research.google.com/assets/colab-badge.svg\" alt=\"Open In Colab\"/></a>"
      ]
    },
    {
      "cell_type": "code",
      "metadata": {
        "id": "pjAmpm9wi0nm",
        "outputId": "c3d75608-c5a8-4cb5-fc95-2a3073e8b72f",
        "colab": {
          "base_uri": "https://localhost:8080/",
          "height": 34
        }
      },
      "source": [
        "message = \"Prashant you are getting there with Python and Colab\"\n",
        "Real = !echo -e '$message'\n",
        "Real"
      ],
      "execution_count": null,
      "outputs": [
        {
          "output_type": "execute_result",
          "data": {
            "text/plain": [
              "['Prashant you are getting there with Python and Colab']"
            ]
          },
          "metadata": {
            "tags": []
          },
          "execution_count": 12
        }
      ]
    },
    {
      "cell_type": "code",
      "metadata": {
        "id": "Muk33OlGlha9"
      },
      "source": [
        "!wget https://www.stats.govt.nz/large-datasets/csv-files-for-download/ -P \"/content/drive/My Drive/app\""
      ],
      "execution_count": null,
      "outputs": []
    },
    {
      "cell_type": "code",
      "metadata": {
        "id": "_elqLbxYoC9T"
      },
      "source": [
        "import pandas as pd\n",
        "data = pd.read_csv(\"/content/drive/My Drive/app/index.html.2\")\n",
        "data.head(5)"
      ],
      "execution_count": null,
      "outputs": []
    },
    {
      "cell_type": "code",
      "metadata": {
        "id": "qBOY53naqeGH"
      },
      "source": [
        "!ls -ltr\n",
        "!git clone http://github.com/wxs/keras-mnist-tutorial.git"
      ],
      "execution_count": null,
      "outputs": []
    },
    {
      "cell_type": "code",
      "metadata": {
        "id": "BHa6kvXusf1d"
      },
      "source": [
        "!ls /bin"
      ],
      "execution_count": null,
      "outputs": []
    },
    {
      "cell_type": "code",
      "metadata": {
        "id": "0mwMdOAIshm3"
      },
      "source": [
        "!wget --help"
      ],
      "execution_count": null,
      "outputs": []
    },
    {
      "cell_type": "code",
      "metadata": {
        "id": "R4lhkOcXs6ih"
      },
      "source": [
        "from google.colab import drive\n",
        "drive.mount('/content/drive')"
      ],
      "execution_count": null,
      "outputs": []
    },
    {
      "cell_type": "code",
      "metadata": {
        "id": "1uvpyza6vVDo"
      },
      "source": [
        "import numpy as np\n",
        "from matplotlib import pyplot as plt\n",
        "y= np.random.rand(100)\n",
        "#print(y)\n",
        "x=[x for x in range(len(y))]\n",
        "print(x)\n",
        "\n",
        "plt.plot(x, y, \"-\")\n",
        "#plt.fill_between(x, y, 200, where=(y>195), facecolor='g', alpha=0.5)\n",
        "\n",
        "plt.title(\"Sample Title\")\n",
        "plt.show()"
      ],
      "execution_count": null,
      "outputs": []
    },
    {
      "cell_type": "code",
      "metadata": {
        "id": "S95I77hPxEzi"
      },
      "source": [
        "!ls -l\n",
        "%ldir\n",
        "%history"
      ],
      "execution_count": null,
      "outputs": []
    },
    {
      "cell_type": "code",
      "metadata": {
        "id": "eENIcfuKyKGj"
      },
      "source": [
        "#@title FORM\n",
        "color = \"green\" #@param [\"red\", \"green\", \"blue\"]\n",
        "print (color)\n"
      ],
      "execution_count": null,
      "outputs": []
    },
    {
      "cell_type": "code",
      "metadata": {
        "id": "oZQklMz2y6zS",
        "outputId": "eb5bc27f-c1d0-40fd-fbac-177340a08423",
        "colab": {
          "base_uri": "https://localhost:8080/",
          "height": 51
        }
      },
      "source": [
        "import time\n",
        "print(time.ctime())\n",
        "time.sleep(sleeptime)\n",
        "print (time.ctime())"
      ],
      "execution_count": null,
      "outputs": [
        {
          "output_type": "stream",
          "text": [
            "Mon Sep 28 08:20:55 2020\n",
            "Mon Sep 28 08:20:59 2020\n"
          ],
          "name": "stdout"
        }
      ]
    },
    {
      "cell_type": "code",
      "metadata": {
        "id": "iHA4Jw0PlgoP"
      },
      "source": [
        "!pip install albumentations"
      ],
      "execution_count": null,
      "outputs": []
    },
    {
      "cell_type": "code",
      "metadata": {
        "id": "dAFhF_m_wvIe",
        "outputId": "a2ea3268-81f3-4ee4-92a5-7f6fd359d163",
        "colab": {
          "base_uri": "https://localhost:8080/",
          "height": 34
        }
      },
      "source": [
        "import torch\n",
        "x = torch.cuda.is_available()\n",
        "x"
      ],
      "execution_count": null,
      "outputs": [
        {
          "output_type": "execute_result",
          "data": {
            "text/plain": [
              "True"
            ]
          },
          "metadata": {
            "tags": []
          },
          "execution_count": 1
        }
      ]
    },
    {
      "cell_type": "code",
      "metadata": {
        "id": "4CigDFL5xxLx"
      },
      "source": [
        "!cat /proc/meminfo"
      ],
      "execution_count": null,
      "outputs": []
    },
    {
      "cell_type": "code",
      "metadata": {
        "id": "O3amYOC5CGoM",
        "outputId": "6b884cd3-b146-484d-df79-97ab28f0bc12",
        "colab": {
          "base_uri": "https://localhost:8080/",
          "height": 51
        }
      },
      "source": [
        "!pwd\n",
        "from google.colab import drive\n",
        "drive.mount('drive')"
      ],
      "execution_count": null,
      "outputs": [
        {
          "output_type": "stream",
          "text": [
            "/content\n",
            "Mounted at drive\n"
          ],
          "name": "stdout"
        }
      ]
    }
  ]
}