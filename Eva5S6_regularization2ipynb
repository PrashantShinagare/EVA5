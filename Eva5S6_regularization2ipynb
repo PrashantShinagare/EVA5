{
  "nbformat": 4,
  "nbformat_minor": 0,
  "metadata": {
    "kernelspec": {
      "display_name": "Python 3",
      "language": "python",
      "name": "python3"
    },
    "language_info": {
      "codemirror_mode": {
        "name": "ipython",
        "version": 3
      },
      "file_extension": ".py",
      "mimetype": "text/x-python",
      "name": "python",
      "nbconvert_exporter": "python",
      "pygments_lexer": "ipython3",
      "version": "3.8.5"
    },
    "colab": {
      "name": "5_6217648086529868169.ipynb",
      "provenance": [],
      "include_colab_link": true
    }
  },
  "cells": [
    {
      "cell_type": "markdown",
      "metadata": {
        "id": "view-in-github",
        "colab_type": "text"
      },
      "source": [
        "<a href=\"https://colab.research.google.com/github/PrashantShinagare/EVA5/blob/master/Eva5S6_regularization2ipynb\" target=\"_parent\"><img src=\"https://colab.research.google.com/assets/colab-badge.svg\" alt=\"Open In Colab\"/></a>"
      ]
    },
    {
      "cell_type": "code",
      "metadata": {
        "id": "UmG8BywvenrQ",
        "colab_type": "code",
        "colab": {}
      },
      "source": [
        "from IPython.core.interactiveshell import InteractiveShell\n",
        "InteractiveShell.ast_node_interactivity = 'all'"
      ],
      "execution_count": null,
      "outputs": []
    },
    {
      "cell_type": "markdown",
      "metadata": {
        "id": "G5Oyxg80enrW",
        "colab_type": "text"
      },
      "source": [
        "### Import Libraries"
      ]
    },
    {
      "cell_type": "code",
      "metadata": {
        "id": "timIkdivenrX",
        "colab_type": "code",
        "colab": {}
      },
      "source": [
        "#Torch Libs\n",
        "import torch\n",
        "import torch.nn as nn\n",
        "import torch.nn.functional as F\n",
        "import torch.optim as optim\n",
        "from torchvision import datasets, transforms, utils\n",
        "from torch.optim.lr_scheduler import StepLR, OneCycleLR\n",
        "\n",
        "#Utility and Plot Libs\n",
        "import matplotlib.pyplot as plt\n",
        "import seaborn as sns\n",
        "import pandas as pd\n",
        "import numpy as np\n",
        "from skimage import io\n",
        "import matplotlib.pyplot as plt\n",
        "from tqdm import tqdm\n",
        "\n",
        "from IPython.display import Image\n"
      ],
      "execution_count": null,
      "outputs": []
    },
    {
      "cell_type": "markdown",
      "metadata": {
        "id": "c4vgdhCYenrc",
        "colab_type": "text"
      },
      "source": [
        "### Pytorch Version check"
      ]
    },
    {
      "cell_type": "code",
      "metadata": {
        "id": "v3l7y7bbenrd",
        "colab_type": "code",
        "colab": {},
        "outputId": "2c3ac890-6882-45ac-fbf0-14a918cd24b7"
      },
      "source": [
        "torch.__version__"
      ],
      "execution_count": null,
      "outputs": [
        {
          "output_type": "execute_result",
          "data": {
            "text/plain": [
              "'1.6.0'"
            ]
          },
          "metadata": {
            "tags": []
          },
          "execution_count": 3
        }
      ]
    },
    {
      "cell_type": "markdown",
      "metadata": {
        "id": "ehUDZq_9enrl",
        "colab_type": "text"
      },
      "source": [
        "### Data Transformation"
      ]
    },
    {
      "cell_type": "code",
      "metadata": {
        "id": "Ws3xRW2Zenrm",
        "colab_type": "code",
        "colab": {}
      },
      "source": [
        "#Need to create a data Trandform function here. there transform objects will be use fulll to apply on data"
      ],
      "execution_count": null,
      "outputs": []
    },
    {
      "cell_type": "code",
      "metadata": {
        "id": "kVm4IA4penrq",
        "colab_type": "code",
        "colab": {}
      },
      "source": [
        "train_transforms = transforms.Compose([\n",
        "                                      #  transforms.Resize((28, 28)),\n",
        "                                      #  transforms.ColorJitter(brightness=0.10, contrast=0.1, saturation=0.10, hue=0.1),\n",
        "                                       transforms.RandomRotation((-15.0, 15.0), fill=(1,)),\n",
        "                                       transforms.ToTensor(),\n",
        "                                       transforms.Normalize((0.1307,), (0.3081,)) # The mean and std have to be sequences (e.g., tuples), therefore you should add a comma after the values. \n",
        "                                       ])\n",
        "\n",
        "\n",
        "test_transforms = transforms.Compose([\n",
        "                                      #  transforms.Resize((28, 28)),\n",
        "                                      #  transforms.ColorJitter(brightness=0.10, contrast=0.1, saturation=0.10, hue=0.1),\n",
        "                                       transforms.ToTensor(),\n",
        "                                       transforms.Normalize((0.1307,), (0.3081,)) # The mean and std have to be sequences (e.g., tuples), therefore you should add a comma after the values. \n",
        "                                       ])"
      ],
      "execution_count": null,
      "outputs": []
    },
    {
      "cell_type": "markdown",
      "metadata": {
        "id": "w5SMfry3enru",
        "colab_type": "text"
      },
      "source": [
        "### Creating the Trainning and Testing data  "
      ]
    },
    {
      "cell_type": "code",
      "metadata": {
        "id": "0moDdJuaenrv",
        "colab_type": "code",
        "colab": {}
      },
      "source": [
        "#Here applying the transform function we hafve created.\n",
        "#What is target_transform , Need to understand\n",
        "\n",
        "train = datasets.MNIST('./', train = True,  transform = train_transforms,  target_transform = None,  download = True)\n",
        "test  = datasets.MNIST('./', train = False,  transform = test_transforms,   target_transform = None,  download = True)\n"
      ],
      "execution_count": null,
      "outputs": []
    },
    {
      "cell_type": "code",
      "metadata": {
        "id": "IyuNxTquenr0",
        "colab_type": "code",
        "colab": {},
        "outputId": "4dfabf55-190b-47b8-ab9a-730382093ebc"
      },
      "source": [
        "type(train)\n",
        "type(test)"
      ],
      "execution_count": null,
      "outputs": [
        {
          "output_type": "execute_result",
          "data": {
            "text/plain": [
              "torchvision.datasets.mnist.MNIST"
            ]
          },
          "metadata": {
            "tags": []
          },
          "execution_count": 7
        },
        {
          "output_type": "execute_result",
          "data": {
            "text/plain": [
              "torchvision.datasets.mnist.MNIST"
            ]
          },
          "metadata": {
            "tags": []
          },
          "execution_count": 7
        }
      ]
    },
    {
      "cell_type": "markdown",
      "metadata": {
        "id": "6RpXrxZuenr4",
        "colab_type": "text"
      },
      "source": [
        "### Creating Data Loader"
      ]
    },
    {
      "cell_type": "markdown",
      "metadata": {
        "id": "F7nWMctYenr5",
        "colab_type": "text"
      },
      "source": [
        "#### Cuda Checker"
      ]
    },
    {
      "cell_type": "code",
      "metadata": {
        "id": "L2SXRLRlenr5",
        "colab_type": "code",
        "colab": {},
        "outputId": "b9dd354a-38e6-491a-fc0e-2538db37d2e1"
      },
      "source": [
        "cuda = torch.cuda.is_available()\n",
        "print ('Is Cuda Available ?',cuda)"
      ],
      "execution_count": null,
      "outputs": [
        {
          "output_type": "stream",
          "text": [
            "Is Cuda Available ? True\n"
          ],
          "name": "stdout"
        }
      ]
    },
    {
      "cell_type": "code",
      "metadata": {
        "id": "4VHXHlX0ensA",
        "colab_type": "code",
        "colab": {}
      },
      "source": [
        "SEED = 1\n",
        "\n",
        "if cuda:\n",
        "    torch.cuda.manual_seed(SEED)\n",
        "else:\n",
        "    torch.manual_seed(SEED)"
      ],
      "execution_count": null,
      "outputs": []
    },
    {
      "cell_type": "markdown",
      "metadata": {
        "id": "dWBpJ7AjensE",
        "colab_type": "text"
      },
      "source": [
        "#### Based on the cuda availability we are defining the things"
      ]
    },
    {
      "cell_type": "code",
      "metadata": {
        "id": "UfjC0YK7ensF",
        "colab_type": "code",
        "colab": {}
      },
      "source": [
        "dataloader_args = dict(shuffle = True,batch_size = 128,num_workers = 4, pin_memory = True) if cuda else dict(shuffle = True,batch_size = 64)"
      ],
      "execution_count": null,
      "outputs": []
    },
    {
      "cell_type": "code",
      "metadata": {
        "id": "dgd6aEv5ensJ",
        "colab_type": "code",
        "colab": {},
        "outputId": "00c3cf80-4422-46de-f430-590eda72fb0a"
      },
      "source": [
        "dataloader_args"
      ],
      "execution_count": null,
      "outputs": [
        {
          "output_type": "execute_result",
          "data": {
            "text/plain": [
              "{'shuffle': True, 'batch_size': 128, 'num_workers': 4, 'pin_memory': True}"
            ]
          },
          "metadata": {
            "tags": []
          },
          "execution_count": 11
        }
      ]
    },
    {
      "cell_type": "code",
      "metadata": {
        "id": "OaUp7ulqensN",
        "colab_type": "code",
        "colab": {}
      },
      "source": [
        "train_loader = torch.utils.data.DataLoader(train,**dataloader_args)\n",
        "test_loader = torch.utils.data.DataLoader(test,**dataloader_args)"
      ],
      "execution_count": null,
      "outputs": []
    },
    {
      "cell_type": "code",
      "metadata": {
        "id": "GvbmpvKmensQ",
        "colab_type": "code",
        "colab": {},
        "outputId": "6e935ed6-9704-4ecc-d516-99ce395f6e3e"
      },
      "source": [
        "pwd"
      ],
      "execution_count": null,
      "outputs": [
        {
          "output_type": "execute_result",
          "data": {
            "text/plain": [
              "'/home/jd/Desktop/EVA5/secession6'"
            ]
          },
          "metadata": {
            "tags": []
          },
          "execution_count": 13
        }
      ]
    },
    {
      "cell_type": "markdown",
      "metadata": {
        "id": "FysidlfZensU",
        "colab_type": "text"
      },
      "source": [
        "### Extracting Statistics"
      ]
    },
    {
      "cell_type": "markdown",
      "metadata": {
        "id": "Ars6Qd8NensU",
        "colab_type": "raw"
      },
      "source": [
        "train_data = train.train_data\n",
        "train_data = train.transform(train_data.numpy())"
      ]
    },
    {
      "cell_type": "markdown",
      "metadata": {
        "id": "579nCWgaensV",
        "colab_type": "raw"
      },
      "source": [
        "print('[Train]')\n",
        "print(' - Numpy Shape:', train.train_data.cpu().numpy().shape)\n",
        "print(' - Tensor Shape:', train.train_data.size())\n",
        "print(' - min:', torch.min(train_data))\n",
        "print(' - max:', torch.max(train_data))\n",
        "print(' - mean:', torch.mean(train_data))\n",
        "print(' - std:', torch.std(train_data))\n",
        "print(' - var:', torch.var(train_data))"
      ]
    },
    {
      "cell_type": "code",
      "metadata": {
        "id": "yiIELhBZensV",
        "colab_type": "code",
        "colab": {}
      },
      "source": [
        "dataiter = iter(train_loader)\n",
        "images,label = dataiter.next()"
      ],
      "execution_count": null,
      "outputs": []
    },
    {
      "cell_type": "code",
      "metadata": {
        "id": "m5MCmcSmensZ",
        "colab_type": "code",
        "colab": {},
        "outputId": "7b7e4f0c-48e7-46a5-dfd4-27276a6bd510"
      },
      "source": [
        "print(images.shape)\n",
        "print(label.shape)"
      ],
      "execution_count": null,
      "outputs": [
        {
          "output_type": "stream",
          "text": [
            "torch.Size([128, 1, 28, 28])\n",
            "torch.Size([128])\n"
          ],
          "name": "stdout"
        }
      ]
    },
    {
      "cell_type": "code",
      "metadata": {
        "id": "UrfvPJl8ensd",
        "colab_type": "code",
        "colab": {},
        "outputId": "3cb63a78-1f2c-42bf-f2b1-b57ecca4689f"
      },
      "source": [
        "plt.imshow(images[0].numpy().squeeze(),cmap = 'gray_r')"
      ],
      "execution_count": null,
      "outputs": [
        {
          "output_type": "execute_result",
          "data": {
            "text/plain": [
              "<matplotlib.image.AxesImage at 0x7fa42c682370>"
            ]
          },
          "metadata": {
            "tags": []
          },
          "execution_count": 16
        },
        {
          "output_type": "display_data",
          "data": {
            "image/png": "[encoded data removed]",
            "text/plain": [
              "<Figure size 432x288 with 1 Axes>"
            ]
          },
          "metadata": {
            "tags": [],
            "needs_background": "light"
          }
        }
      ]
    },
    {
      "cell_type": "markdown",
      "metadata": {
        "id": "Q27yk4-6ensi",
        "colab_type": "text"
      },
      "source": [
        "### Plotting all the image"
      ]
    },
    {
      "cell_type": "code",
      "metadata": {
        "id": "-9RobgFCensj",
        "colab_type": "code",
        "colab": {},
        "outputId": "d776159b-b5f5-40e4-c596-d23f7f5cc443"
      },
      "source": [
        "figure = plt.figure()\n",
        "num_of_images = 63\n",
        "for index in range(1, num_of_images + 1):\n",
        "    _= plt.subplot(10, 10, index)\n",
        "    _= plt.axis('off')\n",
        "    _= plt.imshow(images[index].numpy().squeeze(), cmap='gray_r')"
      ],
      "execution_count": null,
      "outputs": [
        {
          "output_type": "display_data",
          "data": {
            "image/png": "[encoded data removed]",
            "text/plain": [
              "<Figure size 432x288 with 63 Axes>"
            ]
          },
          "metadata": {
            "tags": [],
            "needs_background": "light"
          }
        }
      ]
    },
    {
      "cell_type": "markdown",
      "metadata": {
        "id": "lf3ekiDZensm",
        "colab_type": "text"
      },
      "source": [
        "## Model Architecture"
      ]
    },
    {
      "cell_type": "markdown",
      "metadata": {
        "id": "xkKRjcZxensn",
        "colab_type": "text"
      },
      "source": [
        "## GBN"
      ]
    },
    {
      "cell_type": "code",
      "metadata": {
        "id": "j1S1v7zAenso",
        "colab_type": "code",
        "colab": {}
      },
      "source": [
        ""
      ],
      "execution_count": null,
      "outputs": []
    },
    {
      "cell_type": "code",
      "metadata": {
        "id": "oqmh2Bahensr",
        "colab_type": "code",
        "colab": {}
      },
      "source": [
        ""
      ],
      "execution_count": null,
      "outputs": []
    },
    {
      "cell_type": "code",
      "metadata": {
        "id": "CHKpDpY-ensu",
        "colab_type": "code",
        "colab": {}
      },
      "source": [
        "class GhostBatchNorm(nn.BatchNorm2d):\n",
        "    \"\"\"\n",
        "    From : https://github.com/davidcpage/cifar10-fast/blob/master/bag_of_tricks.ipynb\n",
        "\n",
        "    Batch norm seems to work best with batch size of around 32. The reasons presumably have to do \n",
        "    with noise in the batch statistics and specifically a balance between a beneficial regularising effect \n",
        "    at intermediate batch sizes and an excess of noise at small batches.\n",
        "    \n",
        "    Our batches are of size 512 and we can't afford to reduce them without taking a serious hit on training times, \n",
        "    but we can apply batch norm separately to subsets of a training batch. This technique, known as 'ghost' batch \n",
        "    norm, is usually used in a distributed setting but is just as useful when using large batches on a single node. \n",
        "    It isn't supported directly in PyTorch but we can roll our own easily enough.\n",
        "    \"\"\"\n",
        "    def __init__(self, num_features, num_splits, eps=1e-05, momentum=0.1, weight=True, bias=True):\n",
        "        super(GhostBatchNorm, self).__init__(num_features, eps=eps, momentum=momentum)\n",
        "        self.weight.data.fill_(1.0)\n",
        "        self.bias.data.fill_(0.0)\n",
        "        self.weight.requires_grad = weight\n",
        "        self.bias.requires_grad = bias        \n",
        "        self.num_splits = num_splits\n",
        "        self.register_buffer('running_mean', torch.zeros(num_features*self.num_splits))\n",
        "        self.register_buffer('running_var', torch.ones(num_features*self.num_splits))\n",
        "\n",
        "    def train(self, mode=True):\n",
        "        if (self.training is True) and (mode is False):\n",
        "            self.running_mean = torch.mean(self.running_mean.view(self.num_splits, self.num_features), dim=0).repeat(self.num_splits)\n",
        "            self.running_var = torch.mean(self.running_var.view(self.num_splits, self.num_features), dim=0).repeat(self.num_splits)\n",
        "        return super(GhostBatchNorm, self).train(mode)\n",
        "        \n",
        "    def forward(self, input):\n",
        "        N, C, H, W = input.shape\n",
        "        if self.training or not self.track_running_stats:\n",
        "            return F.batch_norm(\n",
        "                input.view(-1, C*self.num_splits, H, W), self.running_mean, self.running_var, \n",
        "                self.weight.repeat(self.num_splits), self.bias.repeat(self.num_splits),\n",
        "                True, self.momentum, self.eps).view(N, C, H, W) \n",
        "        else:\n",
        "            return F.batch_norm(\n",
        "                input, self.running_mean[:self.num_features], self.running_var[:self.num_features], \n",
        "                self.weight, self.bias, False, self.momentum, self.eps)\n",
        "\n"
      ],
      "execution_count": null,
      "outputs": []
    },
    {
      "cell_type": "code",
      "metadata": {
        "id": "IW0WQtgoensx",
        "colab_type": "code",
        "colab": {}
      },
      "source": [
        "\n",
        "class Net(nn.Module):\n",
        "    def __init__(self,ghost = False):\n",
        "        super(Net, self).__init__()\n",
        "        self.dropout_value = 0.05\n",
        "        # Input Block\n",
        "        print('GHOST BHAI is ',ghost)\n",
        "        self.convblock1 = nn.Sequential(\n",
        "            nn.Conv2d(in_channels=1, out_channels=10, kernel_size=(3, 3), padding=0, bias=False),\n",
        "            nn.BatchNorm2d(10) if ghost is False else GhostBatchNorm(10, num_splits=4, weight=False),\n",
        "            nn.Dropout(self.dropout_value),\n",
        "            nn.ReLU()\n",
        "        ) # input_size = 28 output_size = 26 receptive_field = 3\n",
        "\n",
        "        # CONVOLUTION BLOCK 1\n",
        "        self.convblock2 = nn.Sequential(\n",
        "            nn.Conv2d(in_channels=10, out_channels=10, kernel_size=(3, 3), padding=0, bias=False),\n",
        "            nn.BatchNorm2d(10) if ghost is False else GhostBatchNorm(10, num_splits=4, weight=False),\n",
        "            nn.Dropout(self.dropout_value),\n",
        "            nn.ReLU(),\n",
        "        ) # input_size = 26 output_size = 24 receptive_field = 5\n",
        "        \n",
        "        self.convblock3 = nn.Sequential(\n",
        "            nn.Conv2d(in_channels=10, out_channels=10, kernel_size=(3, 3), padding=0, bias=False),\n",
        "            nn.BatchNorm2d(10) if ghost is False else GhostBatchNorm(10, num_splits=64//32, weight=False),\n",
        "            nn.Dropout(self.dropout_value),\n",
        "            nn.ReLU()\n",
        "        ) # input_size = 24 output_size = 22 receptive_field = 7       \n",
        "        \n",
        "        self.convblock4 = nn.Sequential(\n",
        "            nn.Conv2d(in_channels=10, out_channels=10, kernel_size=(3, 3), padding=0, bias=False),\n",
        "            nn.BatchNorm2d(10) if ghost is False else GhostBatchNorm(10, num_splits=64//32, weight=False),\n",
        "            nn.Dropout(self.dropout_value),\n",
        "            nn.ReLU()\n",
        "        ) # input_size = 22 output_size = 20 receptive_field = 9        \n",
        "        \n",
        "        \n",
        "        self.pool1 = nn.MaxPool2d(2, 2) # input_size = 20 output_size = 10 receptive_field = 18\n",
        "\n",
        "        # CONVOLUTION BLOCK 2\n",
        "        self.convblock5 = nn.Sequential(\n",
        "            nn.Conv2d(in_channels=10, out_channels=10, kernel_size=(3, 3), padding=0, bias=False),\n",
        "            nn.BatchNorm2d(10) if ghost is False else GhostBatchNorm(10, num_splits=64//32, weight=False),\n",
        "            nn.Dropout(self.dropout_value),\n",
        "            nn.ReLU()\n",
        "        ) # input_size = 10 output_size = 8 receptive_field = 20\n",
        "        \n",
        "        self.convblock6 = nn.Sequential(\n",
        "            nn.Conv2d(in_channels=10, out_channels=16, kernel_size=(3, 3), padding=0, bias=False),\n",
        "            nn.BatchNorm2d(16) if ghost is False else GhostBatchNorm(16, num_splits=64//32, weight=False),\n",
        "            nn.Dropout(self.dropout_value),\n",
        "            nn.ReLU()\n",
        "        ) # input_size = 8 output_size = 6 receptive_field = 22\n",
        "        \n",
        "        self.convblock7 = nn.Sequential(\n",
        "            nn.Conv2d(in_channels=16, out_channels=16, kernel_size=(3, 3), padding=0, bias=False),\n",
        "            nn.BatchNorm2d(16) if ghost is False else GhostBatchNorm(16, num_splits=64//32, weight=False),\n",
        "            nn.Dropout(self.dropout_value),\n",
        "            nn.ReLU()\n",
        "        ) # input_size = 6 output_size = 4 receptive_field = 24\n",
        "        \n",
        "        self.gap = nn.AvgPool2d(kernel_size=(4,4)) \n",
        "        \n",
        "        self.convblock8 = nn.Sequential(\n",
        "            nn.Conv2d(in_channels=16, out_channels=10, kernel_size=(1, 1), padding=0, bias=False),\n",
        "        ) # input_size = 1 output_size = 1  receptive_field = 24\n",
        "        \n",
        "\n",
        "    def forward(self, x):\n",
        "        x = self.convblock1(x)\n",
        "        x = self.convblock2(x)\n",
        "        x = self.convblock3(x)\n",
        "        x = self.convblock4(x)\n",
        "        x = self.pool1(x)\n",
        "        x = self.convblock5(x)\n",
        "        x = self.convblock6(x)\n",
        "        x = self.convblock7(x)\n",
        "        x = self.gap(x)  \n",
        "        x = self.convblock8(x)\n",
        "        x = x.view(-1, 10)\n",
        "        \n",
        "        return F.log_softmax(x, dim=-1)"
      ],
      "execution_count": null,
      "outputs": []
    },
    {
      "cell_type": "markdown",
      "metadata": {
        "id": "7QEq0Bvhens2",
        "colab_type": "text"
      },
      "source": [
        "### Model Param"
      ]
    },
    {
      "cell_type": "code",
      "metadata": {
        "id": "oRsypSIxens3",
        "colab_type": "code",
        "colab": {},
        "outputId": "2fba9d36-05c0-4b51-d2c3-6d33672647e4"
      },
      "source": [
        "from torchsummary import summary\n",
        "use_cuda = torch.cuda.is_available()\n",
        "device = torch.device(\"cuda\" if use_cuda else \"cpu\")\n",
        "print(device)\n",
        "model = Net().to(device)\n",
        "summary(model, input_size=(1, 28, 28))"
      ],
      "execution_count": null,
      "outputs": [
        {
          "output_type": "stream",
          "text": [
            "cuda\n",
            "GHOST BHAI is  False\n",
            "----------------------------------------------------------------\n",
            "        Layer (type)               Output Shape         Param #\n",
            "================================================================\n",
            "            Conv2d-1           [-1, 10, 26, 26]              90\n",
            "       BatchNorm2d-2           [-1, 10, 26, 26]              20\n",
            "           Dropout-3           [-1, 10, 26, 26]               0\n",
            "              ReLU-4           [-1, 10, 26, 26]               0\n",
            "            Conv2d-5           [-1, 10, 24, 24]             900\n",
            "       BatchNorm2d-6           [-1, 10, 24, 24]              20\n",
            "           Dropout-7           [-1, 10, 24, 24]               0\n",
            "              ReLU-8           [-1, 10, 24, 24]               0\n",
            "            Conv2d-9           [-1, 10, 22, 22]             900\n",
            "      BatchNorm2d-10           [-1, 10, 22, 22]              20\n",
            "          Dropout-11           [-1, 10, 22, 22]               0\n",
            "             ReLU-12           [-1, 10, 22, 22]               0\n",
            "           Conv2d-13           [-1, 10, 20, 20]             900\n",
            "      BatchNorm2d-14           [-1, 10, 20, 20]              20\n",
            "          Dropout-15           [-1, 10, 20, 20]               0\n",
            "             ReLU-16           [-1, 10, 20, 20]               0\n",
            "        MaxPool2d-17           [-1, 10, 10, 10]               0\n",
            "           Conv2d-18             [-1, 10, 8, 8]             900\n",
            "      BatchNorm2d-19             [-1, 10, 8, 8]              20\n",
            "          Dropout-20             [-1, 10, 8, 8]               0\n",
            "             ReLU-21             [-1, 10, 8, 8]               0\n",
            "           Conv2d-22             [-1, 16, 6, 6]           1,440\n",
            "      BatchNorm2d-23             [-1, 16, 6, 6]              32\n",
            "          Dropout-24             [-1, 16, 6, 6]               0\n",
            "             ReLU-25             [-1, 16, 6, 6]               0\n",
            "           Conv2d-26             [-1, 16, 4, 4]           2,304\n",
            "      BatchNorm2d-27             [-1, 16, 4, 4]              32\n",
            "          Dropout-28             [-1, 16, 4, 4]               0\n",
            "             ReLU-29             [-1, 16, 4, 4]               0\n",
            "        AvgPool2d-30             [-1, 16, 1, 1]               0\n",
            "           Conv2d-31             [-1, 10, 1, 1]             160\n",
            "================================================================\n",
            "Total params: 7,758\n",
            "Trainable params: 7,758\n",
            "Non-trainable params: 0\n",
            "----------------------------------------------------------------\n",
            "Input size (MB): 0.00\n",
            "Forward/backward pass size (MB): 0.70\n",
            "Params size (MB): 0.03\n",
            "Estimated Total Size (MB): 0.74\n",
            "----------------------------------------------------------------\n"
          ],
          "name": "stdout"
        }
      ]
    },
    {
      "cell_type": "code",
      "metadata": {
        "id": "4bCAQoaDens7",
        "colab_type": "code",
        "colab": {}
      },
      "source": [
        "#L1 Loss Calculator\n",
        "def L1_Loss_calc(model, factor=0.0005):\n",
        "    l1_crit = nn.L1Loss(size_average=False)\n",
        "    reg_loss = 0\n",
        "    for param in model.parameters():\n",
        "        #zero_vector = torch.rand_like(param)*0\n",
        "        zero_vector = torch.zeros_like(param)\n",
        "        reg_loss += l1_crit(param,zero_vector)\n",
        "    return factor * reg_loss"
      ],
      "execution_count": null,
      "outputs": []
    },
    {
      "cell_type": "code",
      "metadata": {
        "id": "1MK65zEzentA",
        "colab_type": "code",
        "colab": {}
      },
      "source": [
        "from tqdm import tqdm\n",
        "\n",
        "def train(model, device, train_loader, optimizer, epoch,scheduler,l1_check =False):\n",
        "    model.train()\n",
        "    pbar = tqdm(train_loader)\n",
        "    train_loss = 0\n",
        "    correct = 0\n",
        "    processed = 0\n",
        "    for batch_idx, (data, target) in enumerate(pbar):\n",
        "        # get samples\n",
        "        data, target = data.to(device), target.to(device)\n",
        "\n",
        "        # Init\n",
        "        optimizer.zero_grad()\n",
        "        \n",
        "        # Predict\n",
        "        y_pred = model(data)\n",
        "\n",
        "        # Calculate loss\n",
        "        loss = F.nll_loss(y_pred, target)\n",
        "        #adding L1 loss function call \n",
        "\n",
        "        if( l1_check == True ):\n",
        "            regloss = L1_Loss_calc(model, 0.0005)\n",
        "            regloss /= len(data) # by batch size\n",
        "            loss += regloss\n",
        "\n",
        "        train_loss += loss.item()\n",
        "\n",
        "        # Backpropagation\n",
        "        loss.backward()\n",
        "        optimizer.step()\n",
        "\n",
        "        # Update pbar-tqdm\n",
        "\n",
        "        pred = y_pred.argmax(dim=1, keepdim=True)  # get the index of the max log-probability\n",
        "        correct += pred.eq(target.view_as(pred)).sum().item()\n",
        "        processed += len(data)\n",
        "\n",
        "#         pbar.set_description(desc= f'Loss={loss.item():0.6f} Batch_id={batch_idx} Accuracy={100*correct/processed:0.2f}')\n",
        "        pbar.set_description(desc= f'Loss={train_loss/(batch_idx+1):0.6f} Batch_id={batch_idx} Accuracy={100*correct/processed:0.2f}')\n",
        "\n",
        "    train_loss /= len(train_loader)\n",
        "    \n",
        "    acc = np.round(100. * correct/len(train_loader.dataset),2) #processed # \n",
        "    scheduler.step()\n",
        "    \n",
        "    return acc, np.round(train_loss,5)"
      ],
      "execution_count": null,
      "outputs": []
    },
    {
      "cell_type": "code",
      "metadata": {
        "id": "Nq-PqDIyentF",
        "colab_type": "code",
        "colab": {}
      },
      "source": [
        "def test(model, device, test_loader,l1_check = False):\n",
        "    model.eval()\n",
        "    test_loss = 0\n",
        "    correct = 0\n",
        "    with torch.no_grad():\n",
        "        for data, target in test_loader:\n",
        "            data, target = data.to(device), target.to(device)\n",
        "            output = model(data)\n",
        "            test_loss += F.nll_loss(output, target, reduction='sum').item()  # sum up batch loss\n",
        "            pred = output.argmax(dim=1, keepdim=True)  # get the index of the max log-probability\n",
        "            correct += pred.eq(target.view_as(pred)).sum().item()\n",
        "\n",
        "    test_loss /= len(test_loader.dataset)\n",
        "    \n",
        "    if( l1_check == True ):\n",
        "            regloss = L1_Loss_calc(model, 0.0005)\n",
        "            regloss /= len(data) # by batch size\n",
        "            test_loss += regloss\n",
        "\n",
        "    print('\\nTest set: Average loss: {:.4f}, Accuracy: {}/{} ({:.2f}%)\\n'.format(test_loss, correct, len(test_loader.dataset),100 * correct / len(test_loader.dataset)))\n",
        "    acc = 100 * correct /len(test_loader.dataset)\n",
        "    acc = np.round(acc,2)\n",
        "    \n",
        "    return acc, test_loss\n",
        "    "
      ],
      "execution_count": null,
      "outputs": []
    },
    {
      "cell_type": "markdown",
      "metadata": {
        "id": "JzLbAzqmentI",
        "colab_type": "text"
      },
      "source": [
        "### Temp Store"
      ]
    },
    {
      "cell_type": "markdown",
      "metadata": {
        "id": "XhJvwLuuentJ",
        "colab_type": "text"
      },
      "source": [
        "### Lets add L2 "
      ]
    },
    {
      "cell_type": "code",
      "metadata": {
        "id": "56EG9d_kentJ",
        "colab_type": "code",
        "colab": {},
        "outputId": "ee2c90d9-0e43-4845-d693-c298e045d3e0"
      },
      "source": [
        "len(train_loader)"
      ],
      "execution_count": null,
      "outputs": [
        {
          "output_type": "execute_result",
          "data": {
            "text/plain": [
              "469"
            ]
          },
          "metadata": {
            "tags": []
          },
          "execution_count": 24
        }
      ]
    },
    {
      "cell_type": "code",
      "metadata": {
        "id": "sIn5RzC5entN",
        "colab_type": "code",
        "colab": {}
      },
      "source": [
        "def model_building(typ, model, device,train_loader, test_loader,l1_check = False, l2_val = 0, EPOCHS = 3,learning_rate = 0.01):\n",
        "    \n",
        "    train_losses = []\n",
        "    train_acc = []\n",
        "    test_losses = []\n",
        "    test_acc = []\n",
        "    \n",
        "    optimizer = optim.SGD(model.parameters(), lr=0.01, momentum=0.9)\n",
        "    scheduler = torch.optim.lr_scheduler.OneCycleLR(optimizer, max_lr=0.1, steps_per_epoch=len(train_loader), epochs=EPOCHS)\n",
        "    \n",
        "    print ('Model with ', typ)\n",
        "    for epoch in range(1,EPOCHS):\n",
        "        print(\"EPOCH:\", epoch)\n",
        "        acc,loss =  train(model, device, train_loader, optimizer, epoch,scheduler,l1_check= True)\n",
        "        train_acc.append(acc)\n",
        "        train_losses.append(loss)\n",
        "        \n",
        "        acc,loss =  test(model, device, test_loader,l1_check= True)\n",
        "        test_acc.append(acc)\n",
        "        test_losses.append(loss)\n",
        "        \n",
        "    return train_acc,train_losses,test_acc,test_losses"
      ],
      "execution_count": null,
      "outputs": []
    },
    {
      "cell_type": "markdown",
      "metadata": {
        "id": "v_YjeVENentQ",
        "colab_type": "text"
      },
      "source": [
        "## Missclassifications\n"
      ]
    },
    {
      "cell_type": "code",
      "metadata": {
        "id": "KTBdE1l5entS",
        "colab_type": "code",
        "colab": {}
      },
      "source": [
        "def miss_classification(typ, model, device, testloader, num_of_images = 25, filename='missclass'):\n",
        "    model.eval()\n",
        "    misclassified_cnt = 0\n",
        "    fig = plt.figure(figsize=(12,12))\n",
        "    print ('Missclassification on ', typ)\n",
        "    for data, target in testloader:\n",
        "        data, target = data.to(device), target.to(device)\n",
        "        output = model(data)\n",
        "        pred = output.argmax(dim=1, keepdim=True)\n",
        "        pred_marker = pred.eq(target.view_as(pred))   \n",
        "        wrong_idx = (pred_marker == False).nonzero()\n",
        "        for idx in wrong_idx:\n",
        "            index = idx[0].item()\n",
        "            title = \"Actul:{}, Pred:{}\".format(target[index].item(), pred[index][0].item())\n",
        "            ax = fig.add_subplot(5, 5, misclassified_cnt+1, xticks=[], yticks=[]) \n",
        "            ax.set_title(title)\n",
        "            plt.imshow(data[index].cpu().numpy().squeeze(), cmap='gray_r')\n",
        "            misclassified_cnt += 1\n",
        "            if(misclassified_cnt==num_of_images):\n",
        "                break\n",
        "        if(misclassified_cnt==num_of_images):\n",
        "            break\n",
        "    \n",
        "    fig.savefig(filename + '_missclassified_images'+ '.png') \n",
        "    return"
      ],
      "execution_count": null,
      "outputs": []
    },
    {
      "cell_type": "code",
      "metadata": {
        "id": "wR6LHKs9entZ",
        "colab_type": "code",
        "colab": {}
      },
      "source": [
        "def plot_acc_loss(typ, train_acc,train_losses,test_acc,test_losses):\n",
        "    fig, axs = plt.subplots(1,2,figsize = (20,10))\n",
        "    print ('Accuracy model on  ', typ)\n",
        "    plt.autoscale()\n",
        "    axs[0].plot(train_acc,color = 'red')\n",
        "    axs[0].plot(test_acc,color = 'green')\n",
        "    title = 'Training/testing accuracy'\n",
        "    axs[0].set_title(title)\n",
        "    axs[0].set_ylabel('Accuracy')\n",
        "    axs[0].set_xlabel('Epoch')\n",
        "    axs[0].legend(['train acc','test acc'], loc='best')\n",
        "    fig.set_figheight(10)\n",
        "    fig.set_figwidth(15)\n",
        "       \n",
        "    axs[1].plot(train_losses,color = 'red')\n",
        "    axs[1].plot(test_losses,color = 'green')\n",
        "    title = 'Training/Testing Loss'\n",
        "    axs[1].set_title(title)\n",
        "    axs[1].set_ylabel('Loss')\n",
        "    axs[1].set_xlabel('Epoch')\n",
        "    axs[1].legend(['train loss','test loss'], loc='best')\n",
        "    fig.set_figheight(10)\n",
        "    fig.set_figwidth(15)\n",
        "\n",
        "    plt.show()"
      ],
      "execution_count": null,
      "outputs": []
    },
    {
      "cell_type": "markdown",
      "metadata": {
        "id": "ZLTq03Kzentc",
        "colab_type": "raw"
      },
      "source": [
        "['L1+BN','L2+BN','L1 & L2 + BN','GBN','L1 & L2 + GBN']"
      ]
    },
    {
      "cell_type": "code",
      "metadata": {
        "id": "HnmbLa0Sentd",
        "colab_type": "code",
        "colab": {}
      },
      "source": [
        "def plot_all(train_acc1=[0,0] ,train_losses1=[0,0] ,test_acc1 =[0,0],test_losses1=[0,0],train_acc2=[0,0] ,train_losses2=[0,0] ,test_acc2=[0,0] ,test_losses2=[0,0],train_acc3=[0,0] ,train_losses3=[0,0] ,test_acc3 =[0,0],test_losses3=[0,0],train_acc4=[0,0] ,train_losses4 =[0,0],test_acc4=[0,0] ,test_losses4=[0,0],train_acc5 =[0,0],train_losses5 =[0,0],test_acc5=[0,0] ,test_losses5=[0,0]):\n",
        "    fig,ax = plt.subplots(1,2,figsize=(10,10))\n",
        "    \n",
        "    # ploting the Accuracy \n",
        "    \n",
        "    ax[0].plot(train_acc1)\n",
        "    ax[0].plot(train_acc2)\n",
        "    ax[0].plot(train_acc3)\n",
        "    ax[0].plot(train_acc4)\n",
        "    ax[0].plot(train_acc5)\n",
        "    ax[0].set_title('Model Accuracy')\n",
        "    ax[0].set_ylabel('Accuracy')\n",
        "    ax[0].set_xlabel('Epochs')\n",
        "    ax[0].legend(['L1+BN_acc','L2+BN_acc','L1 & L2 + BN_acc','GBN_acc','L1 & L2 + GBN_acc'], loc='best')\n",
        "    #Ploting the losses \n",
        "    \n",
        "    ax[1].plot(train_losses1)\n",
        "    ax[1].plot(train_losses2)\n",
        "    ax[1].plot(train_losses3)\n",
        "    ax[1].plot(train_losses4)\n",
        "    ax[1].plot(train_losses5)\n",
        "    ax[1].set_title('Model Loss')\n",
        "    ax[1].set_ylabel('Loss')\n",
        "    ax[1].set_xlabel('Epochs')\n",
        "    ax[1].legend(['L1+BN_loss','L2+BN _loss','L1 & L2 + BN_loss','GBN_loss','L1 & L2 + GBN_loss'], loc='best')\n",
        "    \n",
        "    plt.show()\n",
        "    fig.savefig('Comparision.')"
      ],
      "execution_count": null,
      "outputs": []
    },
    {
      "cell_type": "code",
      "metadata": {
        "id": "l7RtgPprentg",
        "colab_type": "code",
        "colab": {}
      },
      "source": [
        "def modelcalling(models,EPOCHS,learning_rate ):\n",
        "    print ('The Number of Epochs are :', EPOCHS)\n",
        "    for typ in models:\n",
        "        if typ == 'L1+BN':\n",
        "            \n",
        "            l1_check = True\n",
        "            l2_val = 0\n",
        "            ghost = False\n",
        "            \n",
        "            model =  Net(ghost).to(device)\n",
        "            train_acc1 ,train_losses1 ,test_acc1 ,test_losses1 = model_building(typ, model, device,train_loader, test_loader,l1_check ,l2_val,EPOCHS,learning_rate)\n",
        "            plot_acc_loss(typ, train_acc1 ,train_losses1 ,test_acc1 ,test_losses1)\n",
        "            miss_classification(typ, model, device, testloader = test_loader, num_of_images = 25, filename=typ)\n",
        "            Image(filename= typ + '_missclassified_images'+ '.png' )\n",
        "            \n",
        "            modelparams = {'train_acc':train_acc1,'test_acc':test_acc1,'train_losses':train_losses1,'test_losses':test_losses1}\n",
        "            file = pd.DataFrame(modelparams)\n",
        "            file.to_csv(typ + '_missclassified_images'+ '.png')\n",
        "\n",
        "\n",
        "        elif typ == 'L2+BN':\n",
        "            \n",
        "            l1_check = False\n",
        "            l2_val = 0.03\n",
        "            ghost = False\n",
        "            \n",
        "            model =  Net(ghost).to(device)\n",
        "            train_acc2 ,train_losses2 ,test_acc2 ,test_losses2 = model_building(typ, model, device,train_loader, test_loader,l1_check,l2_val,EPOCHS,learning_rate)\n",
        "            plot_acc_loss(typ, train_acc2 ,train_losses2 ,test_acc2 ,test_losses2)\n",
        "            miss_classification(typ, model, device, testloader = test_loader, num_of_images = 25, filename=typ)\n",
        "            Image(filename= typ + '_missclassified_images'+ '.png' )\n",
        "            \n",
        "            modelparams = {'train_acc':train_acc2,'test_acc':test_acc2,'train_losses':train_losses2,'test_losses':test_losses2}\n",
        "            file = pd.DataFrame(modelparams)\n",
        "            file.to_csv(typ + 'param'+'.csv')\n",
        "\n",
        "            \n",
        "        elif typ == 'L1 & L2 + BN':\n",
        "            \n",
        "            l1_check = True\n",
        "            l2_val = 0.03\n",
        "            ghost = False\n",
        "            \n",
        "            model =  Net(ghost).to(device)\n",
        "            train_acc3 ,train_losses3 ,test_acc3 ,test_losses3 = model_building(typ, model, device,train_loader, test_loader,l1_check,l2_val,EPOCHS ,learning_rate)\n",
        "            plot_acc_loss(typ, train_acc3 ,train_losses3 ,test_acc3 ,test_losses3)\n",
        "            miss_classification(typ, model, device, testloader = test_loader, num_of_images = 25, filename=typ)\n",
        "            Image(filename= typ + '_missclassified_images'+ '.png' )\n",
        "            \n",
        "            modelparams = {'train_acc':train_acc3,'test_acc':test_acc3,'train_losses':train_losses3,'test_losses':test_losses3}\n",
        "            file = pd.DataFrame(modelparams)\n",
        "            file.to_csv(typ + 'param'+'.csv')\n",
        "\n",
        "            \n",
        "        elif typ == 'GBN':\n",
        "            \n",
        "            l1_check = False\n",
        "            l2_val = 0\n",
        "            ghost = True\n",
        "            \n",
        "            model =  Net(ghost).to(device)\n",
        "            train_acc4 ,train_losses4 ,test_acc4 ,test_losses4 = model_building(typ, model, device,train_loader, test_loader,l1_check,l2_val,EPOCHS,learning_rate)\n",
        "            plot_acc_loss(typ, train_acc4 ,train_losses4 ,test_acc4 ,test_losses4)\n",
        "            miss_classification(typ, model, device, testloader = test_loader, num_of_images = 25, filename=typ)\n",
        "            Image(filename= typ + '_missclassified_images'+ '.png' )\n",
        "            \n",
        "            modelparams = {'train_acc':train_acc4,'test_acc':test_acc4,'train_losses':train_losses4,'test_losses':test_losses4}\n",
        "            file = pd.DataFrame(modelparams)\n",
        "            file.to_csv(typ + 'param'+'.csv')\n",
        "\n",
        "            \n",
        "        elif typ == 'L1 & L2 + GBN':\n",
        "            \n",
        "            l1_check = True\n",
        "            l2_val = 0.03\n",
        "            ghost = True\n",
        "            \n",
        "            model =  Net(ghost).to(device)\n",
        "            train_acc5 ,train_losses5 ,test_acc5 ,test_losses5 = model_building(typ, model, device,train_loader, test_loader,l1_check , l2_val , EPOCHS ,learning_rate)\n",
        "            plot_acc_loss(typ, train_acc5 ,train_losses5 ,test_acc5 ,test_losses5)\n",
        "            miss_classification(typ, model, device, testloader = test_loader, num_of_images = 25, filename=typ)\n",
        "            Image(filename= typ + '_missclassified_images'+ '.png' )\n",
        "            \n",
        "            modelparams = {'train_acc':train_acc5,'test_acc':test_acc5,'train_losses':train_losses5,'test_losses':test_losses5}\n",
        "            file = pd.DataFrame(modelparams)\n",
        "#             file.to_csv(typ + 'param'+'.csv')\n",
        "\n",
        "        \n",
        "    plot_all(train_acc1 ,train_losses1 ,test_acc1 ,test_losses1,train_acc2 ,train_losses2 ,test_acc2 ,test_losses2,train_acc3 ,train_losses3 ,test_acc3 ,test_losses3,train_acc4 ,train_losses4 ,test_acc4 ,test_losses4,train_acc5 ,train_losses5 ,test_acc5 ,test_losses5)\n",
        "    \n",
        "    for i in models:\n",
        "        Image( i + '_missclassified_images.png')\n",
        "        print(i + '_missclassified_images')"
      ],
      "execution_count": null,
      "outputs": []
    },
    {
      "cell_type": "markdown",
      "metadata": {
        "id": "LCjwdXrventj",
        "colab_type": "raw"
      },
      "source": [
        "models = ['L1+BN','L2+BN','L1 & L2 + BN','GBN','L1 & L2 + GBN']"
      ]
    },
    {
      "cell_type": "code",
      "metadata": {
        "id": "bdysjlO2entj",
        "colab_type": "code",
        "colab": {},
        "outputId": "2fef53b0-792e-4e1f-a6b4-e2211ee91270"
      },
      "source": [
        "models = ['L1+BN','L2+BN','L1 & L2 + BN','GBN','L1 & L2 + GBN']\n",
        "modelcalling(models,EPOCHS= 20,learning_rate = 0.01)"
      ],
      "execution_count": null,
      "outputs": [
        {
          "output_type": "stream",
          "text": [
            "  0%|          | 0/469 [00:00<?, ?it/s]"
          ],
          "name": "stderr"
        },
        {
          "output_type": "stream",
          "text": [
            "The Number of Epochs are : 20\n",
            "GHOST BHAI is  False\n",
            "Model with  L1+BN\n",
            "EPOCH: 1\n"
          ],
          "name": "stdout"
        },
        {
          "output_type": "stream",
          "text": [
            "/home/jd/anaconda3/envs/eva5/lib/python3.8/site-packages/torch/nn/_reduction.py:44: UserWarning: size_average and reduce args will be deprecated, please use reduction='sum' instead.\n",
            "  warnings.warn(warning.format(ret))\n",
            "Loss=0.798088 Batch_id=468 Accuracy=78.00: 100%|██████████| 469/469 [00:12<00:00, 38.16it/s]\n",
            "  0%|          | 0/469 [00:00<?, ?it/s]"
          ],
          "name": "stderr"
        },
        {
          "output_type": "stream",
          "text": [
            "\n",
            "Test set: Average loss: 0.1351, Accuracy: 9714/10000 (97.14%)\n",
            "\n",
            "EPOCH: 2\n"
          ],
          "name": "stdout"
        },
        {
          "output_type": "stream",
          "text": [
            "Loss=0.131296 Batch_id=468 Accuracy=96.63: 100%|██████████| 469/469 [00:12<00:00, 38.46it/s]\n",
            "  0%|          | 0/469 [00:00<?, ?it/s]"
          ],
          "name": "stderr"
        },
        {
          "output_type": "stream",
          "text": [
            "\n",
            "Test set: Average loss: 0.0732, Accuracy: 9835/10000 (98.35%)\n",
            "\n",
            "EPOCH: 3\n"
          ],
          "name": "stdout"
        },
        {
          "output_type": "stream",
          "text": [
            "Loss=0.089915 Batch_id=468 Accuracy=97.51: 100%|██████████| 469/469 [00:12<00:00, 38.99it/s]\n",
            "  0%|          | 0/469 [00:00<?, ?it/s]"
          ],
          "name": "stderr"
        },
        {
          "output_type": "stream",
          "text": [
            "\n",
            "Test set: Average loss: 0.0702, Accuracy: 9844/10000 (98.44%)\n",
            "\n",
            "EPOCH: 4\n"
          ],
          "name": "stdout"
        },
        {
          "output_type": "stream",
          "text": [
            "Loss=0.076844 Batch_id=468 Accuracy=97.87: 100%|██████████| 469/469 [00:12<00:00, 38.68it/s]\n",
            "  0%|          | 0/469 [00:00<?, ?it/s]"
          ],
          "name": "stderr"
        },
        {
          "output_type": "stream",
          "text": [
            "\n",
            "Test set: Average loss: 0.0626, Accuracy: 9860/10000 (98.60%)\n",
            "\n",
            "EPOCH: 5\n"
          ],
          "name": "stdout"
        },
        {
          "output_type": "stream",
          "text": [
            "Loss=0.070064 Batch_id=468 Accuracy=97.99: 100%|██████████| 469/469 [00:12<00:00, 38.27it/s]\n",
            "  0%|          | 0/469 [00:00<?, ?it/s]"
          ],
          "name": "stderr"
        },
        {
          "output_type": "stream",
          "text": [
            "\n",
            "Test set: Average loss: 0.0524, Accuracy: 9906/10000 (99.06%)\n",
            "\n",
            "EPOCH: 6\n"
          ],
          "name": "stdout"
        },
        {
          "output_type": "stream",
          "text": [
            "Loss=0.063698 Batch_id=468 Accuracy=98.17: 100%|██████████| 469/469 [00:12<00:00, 38.26it/s]\n",
            "  0%|          | 0/469 [00:00<?, ?it/s]"
          ],
          "name": "stderr"
        },
        {
          "output_type": "stream",
          "text": [
            "\n",
            "Test set: Average loss: 0.0500, Accuracy: 9918/10000 (99.18%)\n",
            "\n",
            "EPOCH: 7\n"
          ],
          "name": "stdout"
        },
        {
          "output_type": "stream",
          "text": [
            "Loss=0.058331 Batch_id=468 Accuracy=98.31: 100%|██████████| 469/469 [00:12<00:00, 38.89it/s]\n",
            "  0%|          | 0/469 [00:00<?, ?it/s]"
          ],
          "name": "stderr"
        },
        {
          "output_type": "stream",
          "text": [
            "\n",
            "Test set: Average loss: 0.0484, Accuracy: 9915/10000 (99.15%)\n",
            "\n",
            "EPOCH: 8\n"
          ],
          "name": "stdout"
        },
        {
          "output_type": "stream",
          "text": [
            "Loss=0.055824 Batch_id=468 Accuracy=98.35: 100%|██████████| 469/469 [00:11<00:00, 41.46it/s]\n",
            "  0%|          | 0/469 [00:00<?, ?it/s]"
          ],
          "name": "stderr"
        },
        {
          "output_type": "stream",
          "text": [
            "\n",
            "Test set: Average loss: 0.0480, Accuracy: 9916/10000 (99.16%)\n",
            "\n",
            "EPOCH: 9\n"
          ],
          "name": "stdout"
        },
        {
          "output_type": "stream",
          "text": [
            "Loss=0.052589 Batch_id=468 Accuracy=98.43: 100%|██████████| 469/469 [00:11<00:00, 41.55it/s]\n",
            "  0%|          | 0/469 [00:00<?, ?it/s]"
          ],
          "name": "stderr"
        },
        {
          "output_type": "stream",
          "text": [
            "\n",
            "Test set: Average loss: 0.0455, Accuracy: 9928/10000 (99.28%)\n",
            "\n",
            "EPOCH: 10\n"
          ],
          "name": "stdout"
        },
        {
          "output_type": "stream",
          "text": [
            "Loss=0.051551 Batch_id=468 Accuracy=98.52: 100%|██████████| 469/469 [00:11<00:00, 41.61it/s]\n",
            "  0%|          | 0/469 [00:00<?, ?it/s]"
          ],
          "name": "stderr"
        },
        {
          "output_type": "stream",
          "text": [
            "\n",
            "Test set: Average loss: 0.0480, Accuracy: 9917/10000 (99.17%)\n",
            "\n",
            "EPOCH: 11\n"
          ],
          "name": "stdout"
        },
        {
          "output_type": "stream",
          "text": [
            "Loss=0.051493 Batch_id=468 Accuracy=98.52: 100%|██████████| 469/469 [00:11<00:00, 42.16it/s]\n",
            "  0%|          | 0/469 [00:00<?, ?it/s]"
          ],
          "name": "stderr"
        },
        {
          "output_type": "stream",
          "text": [
            "\n",
            "Test set: Average loss: 0.0496, Accuracy: 9912/10000 (99.12%)\n",
            "\n",
            "EPOCH: 12\n"
          ],
          "name": "stdout"
        },
        {
          "output_type": "stream",
          "text": [
            "Loss=0.048520 Batch_id=468 Accuracy=98.61: 100%|██████████| 469/469 [00:11<00:00, 41.96it/s]\n",
            "  0%|          | 0/469 [00:00<?, ?it/s]"
          ],
          "name": "stderr"
        },
        {
          "output_type": "stream",
          "text": [
            "\n",
            "Test set: Average loss: 0.0470, Accuracy: 9917/10000 (99.17%)\n",
            "\n",
            "EPOCH: 13\n"
          ],
          "name": "stdout"
        },
        {
          "output_type": "stream",
          "text": [
            "Loss=0.047064 Batch_id=468 Accuracy=98.62: 100%|██████████| 469/469 [00:12<00:00, 38.82it/s]\n",
            "  0%|          | 0/469 [00:00<?, ?it/s]"
          ],
          "name": "stderr"
        },
        {
          "output_type": "stream",
          "text": [
            "\n",
            "Test set: Average loss: 0.0454, Accuracy: 9923/10000 (99.23%)\n",
            "\n",
            "EPOCH: 14\n"
          ],
          "name": "stdout"
        },
        {
          "output_type": "stream",
          "text": [
            "Loss=0.048138 Batch_id=468 Accuracy=98.61: 100%|██████████| 469/469 [00:12<00:00, 38.83it/s]\n",
            "  0%|          | 0/469 [00:00<?, ?it/s]"
          ],
          "name": "stderr"
        },
        {
          "output_type": "stream",
          "text": [
            "\n",
            "Test set: Average loss: 0.0437, Accuracy: 9931/10000 (99.31%)\n",
            "\n",
            "EPOCH: 15\n"
          ],
          "name": "stdout"
        },
        {
          "output_type": "stream",
          "text": [
            "Loss=0.045420 Batch_id=468 Accuracy=98.70: 100%|██████████| 469/469 [00:12<00:00, 38.94it/s]\n",
            "  0%|          | 0/469 [00:00<?, ?it/s]"
          ],
          "name": "stderr"
        },
        {
          "output_type": "stream",
          "text": [
            "\n",
            "Test set: Average loss: 0.0455, Accuracy: 9927/10000 (99.27%)\n",
            "\n",
            "EPOCH: 16\n"
          ],
          "name": "stdout"
        },
        {
          "output_type": "stream",
          "text": [
            "Loss=0.044964 Batch_id=468 Accuracy=98.68: 100%|██████████| 469/469 [00:12<00:00, 39.04it/s]\n",
            "  0%|          | 0/469 [00:00<?, ?it/s]"
          ],
          "name": "stderr"
        },
        {
          "output_type": "stream",
          "text": [
            "\n",
            "Test set: Average loss: 0.0442, Accuracy: 9931/10000 (99.31%)\n",
            "\n",
            "EPOCH: 17\n"
          ],
          "name": "stdout"
        },
        {
          "output_type": "stream",
          "text": [
            "Loss=0.042819 Batch_id=468 Accuracy=98.74: 100%|██████████| 469/469 [00:12<00:00, 38.81it/s]\n",
            "  0%|          | 0/469 [00:00<?, ?it/s]"
          ],
          "name": "stderr"
        },
        {
          "output_type": "stream",
          "text": [
            "\n",
            "Test set: Average loss: 0.0427, Accuracy: 9930/10000 (99.30%)\n",
            "\n",
            "EPOCH: 18\n"
          ],
          "name": "stdout"
        },
        {
          "output_type": "stream",
          "text": [
            "Loss=0.044455 Batch_id=468 Accuracy=98.70: 100%|██████████| 469/469 [00:12<00:00, 38.94it/s]\n",
            "  0%|          | 0/469 [00:00<?, ?it/s]"
          ],
          "name": "stderr"
        },
        {
          "output_type": "stream",
          "text": [
            "\n",
            "Test set: Average loss: 0.0433, Accuracy: 9934/10000 (99.34%)\n",
            "\n",
            "EPOCH: 19\n"
          ],
          "name": "stdout"
        },
        {
          "output_type": "stream",
          "text": [
            "Loss=0.042817 Batch_id=468 Accuracy=98.77: 100%|██████████| 469/469 [00:12<00:00, 38.58it/s]\n"
          ],
          "name": "stderr"
        },
        {
          "output_type": "stream",
          "text": [
            "\n",
            "Test set: Average loss: 0.0434, Accuracy: 9932/10000 (99.32%)\n",
            "\n",
            "Accuracy model on   L1+BN\n"
          ],
          "name": "stdout"
        },
        {
          "output_type": "display_data",
          "data": {
            "image/png": "[encoded data removed]",
            "text/plain": [
              "<Figure size 1080x720 with 2 Axes>"
            ]
          },
          "metadata": {
            "tags": [],
            "needs_background": "light"
          }
        },
        {
          "output_type": "stream",
          "text": [
            "Missclassification on  L1+BN\n"
          ],
          "name": "stdout"
        },
        {
          "output_type": "stream",
          "text": [
            "<ipython-input-26-d53b145df4d0>:11: UserWarning: This overload of nonzero is deprecated:\n",
            "\tnonzero()\n",
            "Consider using one of the following signatures instead:\n",
            "\tnonzero(*, bool as_tuple) (Triggered internally at  /opt/conda/conda-bld/pytorch_1595629395347/work/torch/csrc/utils/python_arg_parser.cpp:766.)\n",
            "  wrong_idx = (pred_marker == False).nonzero()\n",
            "  0%|          | 0/469 [00:00<?, ?it/s]"
          ],
          "name": "stderr"
        },
        {
          "output_type": "stream",
          "text": [
            "GHOST BHAI is  False\n",
            "Model with  L2+BN\n",
            "EPOCH: 1\n"
          ],
          "name": "stdout"
        },
        {
          "output_type": "stream",
          "text": [
            "Loss=0.793429 Batch_id=468 Accuracy=80.55: 100%|██████████| 469/469 [00:11<00:00, 40.24it/s]\n",
            "  0%|          | 0/469 [00:00<?, ?it/s]"
          ],
          "name": "stderr"
        },
        {
          "output_type": "stream",
          "text": [
            "\n",
            "Test set: Average loss: 0.1478, Accuracy: 9686/10000 (96.86%)\n",
            "\n",
            "EPOCH: 2\n"
          ],
          "name": "stdout"
        },
        {
          "output_type": "stream",
          "text": [
            "Loss=0.128072 Batch_id=468 Accuracy=96.67: 100%|██████████| 469/469 [00:12<00:00, 38.86it/s]\n",
            "  0%|          | 0/469 [00:00<?, ?it/s]"
          ],
          "name": "stderr"
        },
        {
          "output_type": "stream",
          "text": [
            "\n",
            "Test set: Average loss: 0.0767, Accuracy: 9850/10000 (98.50%)\n",
            "\n",
            "EPOCH: 3\n"
          ],
          "name": "stdout"
        },
        {
          "output_type": "stream",
          "text": [
            "Loss=0.092702 Batch_id=468 Accuracy=97.45: 100%|██████████| 469/469 [00:11<00:00, 40.00it/s]\n",
            "  0%|          | 0/469 [00:00<?, ?it/s]"
          ],
          "name": "stderr"
        },
        {
          "output_type": "stream",
          "text": [
            "\n",
            "Test set: Average loss: 0.0619, Accuracy: 9883/10000 (98.83%)\n",
            "\n",
            "EPOCH: 4\n"
          ],
          "name": "stdout"
        },
        {
          "output_type": "stream",
          "text": [
            "Loss=0.075909 Batch_id=468 Accuracy=97.84: 100%|██████████| 469/469 [00:12<00:00, 38.89it/s]\n",
            "  0%|          | 0/469 [00:00<?, ?it/s]"
          ],
          "name": "stderr"
        },
        {
          "output_type": "stream",
          "text": [
            "\n",
            "Test set: Average loss: 0.0614, Accuracy: 9871/10000 (98.71%)\n",
            "\n",
            "EPOCH: 5\n"
          ],
          "name": "stdout"
        },
        {
          "output_type": "stream",
          "text": [
            "Loss=0.070734 Batch_id=468 Accuracy=98.00: 100%|██████████| 469/469 [00:11<00:00, 39.99it/s]\n",
            "  0%|          | 0/469 [00:00<?, ?it/s]"
          ],
          "name": "stderr"
        },
        {
          "output_type": "stream",
          "text": [
            "\n",
            "Test set: Average loss: 0.0539, Accuracy: 9900/10000 (99.00%)\n",
            "\n",
            "EPOCH: 6\n"
          ],
          "name": "stdout"
        },
        {
          "output_type": "stream",
          "text": [
            "Loss=0.064129 Batch_id=468 Accuracy=98.17: 100%|██████████| 469/469 [00:11<00:00, 41.74it/s]\n",
            "  0%|          | 0/469 [00:00<?, ?it/s]"
          ],
          "name": "stderr"
        },
        {
          "output_type": "stream",
          "text": [
            "\n",
            "Test set: Average loss: 0.0519, Accuracy: 9910/10000 (99.10%)\n",
            "\n",
            "EPOCH: 7\n"
          ],
          "name": "stdout"
        },
        {
          "output_type": "stream",
          "text": [
            "Loss=0.061500 Batch_id=468 Accuracy=98.21: 100%|██████████| 469/469 [00:11<00:00, 41.61it/s]\n",
            "  0%|          | 0/469 [00:00<?, ?it/s]"
          ],
          "name": "stderr"
        },
        {
          "output_type": "stream",
          "text": [
            "\n",
            "Test set: Average loss: 0.0545, Accuracy: 9891/10000 (98.91%)\n",
            "\n",
            "EPOCH: 8\n"
          ],
          "name": "stdout"
        },
        {
          "output_type": "stream",
          "text": [
            "Loss=0.058874 Batch_id=468 Accuracy=98.30: 100%|██████████| 469/469 [00:11<00:00, 40.82it/s]\n",
            "  0%|          | 0/469 [00:00<?, ?it/s]"
          ],
          "name": "stderr"
        },
        {
          "output_type": "stream",
          "text": [
            "\n",
            "Test set: Average loss: 0.0498, Accuracy: 9911/10000 (99.11%)\n",
            "\n",
            "EPOCH: 9\n"
          ],
          "name": "stdout"
        },
        {
          "output_type": "stream",
          "text": [
            "Loss=0.055963 Batch_id=215 Accuracy=98.33:  46%|████▌     | 214/469 [00:05<00:05, 43.20it/s]"
          ],
          "name": "stderr"
        }
      ]
    },
    {
      "cell_type": "code",
      "metadata": {
        "id": "wwkoaXhWentm",
        "colab_type": "code",
        "colab": {}
      },
      "source": [
        ""
      ],
      "execution_count": null,
      "outputs": []
    },
    {
      "cell_type": "code",
      "metadata": {
        "id": "5rLHOJHoentp",
        "colab_type": "code",
        "colab": {}
      },
      "source": [
        ""
      ],
      "execution_count": null,
      "outputs": []
    }
  ]
}