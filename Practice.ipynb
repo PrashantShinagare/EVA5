{
  "nbformat": 4,
  "nbformat_minor": 0,
  "metadata": {
    "colab": {
      "name": "Practice.ipynb",
      "provenance": [],
      "authorship_tag": "ABX9TyOSDaBBOpTCBEGhs9zK1C/M",
      "include_colab_link": true
    },
    "kernelspec": {
      "name": "python3",
      "display_name": "Python 3"
    }
  },
  "cells": [
    {
      "cell_type": "markdown",
      "metadata": {
        "id": "view-in-github",
        "colab_type": "text"
      },
      "source": [
        "<a href=\"https://colab.research.google.com/github/PrashantShinagare/EVA5/blob/master/Practice.ipynb\" target=\"_parent\"><img src=\"https://colab.research.google.com/assets/colab-badge.svg\" alt=\"Open In Colab\"/></a>"
      ]
    },
    {
      "cell_type": "markdown",
      "metadata": {
        "id": "DFIslWH7ARXC",
        "colab_type": "text"
      },
      "source": [
        "# IMPORT LIBRARY"
      ]
    },
    {
      "cell_type": "code",
      "metadata": {
        "id": "sjtOcOtu4sON",
        "colab_type": "code",
        "colab": {}
      },
      "source": [
        "import torch\n",
        "import torch.nn as nn\n",
        "import torch.nn.functional as F\n",
        "import torch.optim as optim\n",
        "from torchvision import datasets, transforms, utils"
      ],
      "execution_count": 1,
      "outputs": []
    },
    {
      "cell_type": "markdown",
      "metadata": {
        "id": "_IOSbqBmAW9L",
        "colab_type": "text"
      },
      "source": [
        "# DATA TRANSFORM (TO TENSOR and OTHER)"
      ]
    },
    {
      "cell_type": "code",
      "metadata": {
        "id": "r21IlGAhFYEM",
        "colab_type": "code",
        "colab": {}
      },
      "source": [
        "data_transforms = transforms.Compose([transforms.ToTensor()])"
      ],
      "execution_count": 2,
      "outputs": []
    },
    {
      "cell_type": "markdown",
      "metadata": {
        "id": "kb9XvI71tXo9",
        "colab_type": "text"
      },
      "source": [
        "## LOAD DATASET"
      ]
    },
    {
      "cell_type": "code",
      "metadata": {
        "id": "eP6It_BctWLH",
        "colab_type": "code",
        "colab": {}
      },
      "source": [
        "train = datasets.MNIST('./', train=True, download=True,transform=data_transforms)\n",
        "test = datasets.MNIST('./', train=False, download=True, transform=data_transforms)\n",
        "\n",
        "# X = datasets.load_boston(return_X_y=True)\n",
        "# transforms.ToTensor(train)\n",
        "# print(y)"
      ],
      "execution_count": 3,
      "outputs": []
    },
    {
      "cell_type": "markdown",
      "metadata": {
        "id": "HSsxVaslrFkO",
        "colab_type": "text"
      },
      "source": [
        "# DATA ARGUMENTS LOADER"
      ]
    },
    {
      "cell_type": "code",
      "metadata": {
        "id": "rC4-YVKiFYA5",
        "colab_type": "code",
        "colab": {}
      },
      "source": [
        "batch_size = 64\n",
        "\n",
        "cuda = torch.cuda.is_available()\n",
        "# if cuda:\n",
        "#   torch.cuda.manual_seed(3)\n",
        "\n",
        "# dataloader arguments\n",
        "dataloader_args = dict(shuffle = True, batch_size = batch_size, num_workers = 4,pin_memory = True) if cuda else dict(shuffle = True, batch_size = 64)\n",
        "\n",
        "train_loader = torch.utils.data.DataLoader(train, **dataloader_args)\n",
        "\n",
        "test_loader = torch.utils.data.DataLoader(test, **dataloader_args)"
      ],
      "execution_count": 5,
      "outputs": []
    },
    {
      "cell_type": "markdown",
      "metadata": {
        "id": "aLuFkwldsqkP",
        "colab_type": "text"
      },
      "source": [
        "# Data Stats and Sample DATA"
      ]
    },
    {
      "cell_type": "code",
      "metadata": {
        "id": "SLXzgOH9FX-i",
        "colab_type": "code",
        "colab": {}
      },
      "source": [
        "# Converting Tensor to numpy for the stats and plotting\n",
        "\n",
        "train_data = train.train_data\n",
        "n=len(train_data)\n",
        "train_data = train.transform(train.train_data.numpy())\n",
        "p=len(train_data)\n",
        "# print(n)\n",
        "# print(p)\n",
        "\n",
        "print(\"Train\")\n",
        "print(\" - Numpy Shape : \", train.train_data.numpy().shape)\n",
        "print(\" - Tensor Shape : \", train.train_data.size())\n",
        "print(' - min:', torch.min(train_data))\n",
        "print(' - max:', torch.max(train_data))\n",
        "print(' - mean:', torch.mean(train_data))\n",
        "print(' - std:', torch.std(train_data))\n",
        "print(' - var:', torch.var(train_data))\n",
        "\n",
        "dataiter = iter(train_loader)               # Has train data and arguments such as batch size, shuffle, worker, pin_memory\n",
        "images, labels = dataiter.next()\n",
        "\n",
        "print(images.shape)\n",
        "print(labels.shape)\n",
        "\n",
        "# Visualize some of the images\n",
        "\n",
        "%matplotlib inline\n",
        "import matplotlib.pyplot as plt\n",
        "\n",
        "plt.imshow(images[1].numpy().squeeze(), cmap='gray_r')   # Removes one dimension from the existing dimension Eg: 3 dimension to 2D and 2 dimensional to 1D\n",
        "# plt.imshow(images[1].numpy().squeeze(), )\n",
        "print(labels)"
      ],
      "execution_count": null,
      "outputs": []
    },
    {
      "cell_type": "code",
      "metadata": {
        "id": "yPDQg_c7rpl6",
        "colab_type": "code",
        "colab": {
          "base_uri": "https://localhost:8080/",
          "height": 182
        },
        "outputId": "0d9d5c2d-929a-4bf3-fd38-680e7d0c873f"
      },
      "source": [
        "#figure = plt.figure()\n",
        "num_of_images = 63\n",
        "for index in range (1, num_of_images+1):\n",
        "  plt.subplot(10, 10, index)\n",
        "  plt.axis(\"off\")\n",
        "  plt.imshow(images[index].numpy().squeeze(), cmap='gray_r')\n"
      ],
      "execution_count": 47,
      "outputs": [
        {
          "output_type": "display_data",
          "data": {
            "image/png": "[encoded data removed]",
            "text/plain": [
              "<Figure size 432x288 with 63 Axes>"
            ]
          },
          "metadata": {
            "tags": [],
            "needs_background": "light"
          }
        }
      ]
    },
    {
      "cell_type": "markdown",
      "metadata": {
        "id": "jlXYOMuYAE7W",
        "colab_type": "text"
      },
      "source": [
        "# BASIC MODEL"
      ]
    },
    {
      "cell_type": "code",
      "metadata": {
        "id": "b4sqv3e2_9xy",
        "colab_type": "code",
        "colab": {}
      },
      "source": [
        ""
      ],
      "execution_count": null,
      "outputs": []
    },
    {
      "cell_type": "code",
      "metadata": {
        "id": "9fNztm8Q_94s",
        "colab_type": "code",
        "colab": {}
      },
      "source": [
        ""
      ],
      "execution_count": null,
      "outputs": []
    },
    {
      "cell_type": "code",
      "metadata": {
        "id": "fKr5zHuL_9ub",
        "colab_type": "code",
        "colab": {}
      },
      "source": [
        ""
      ],
      "execution_count": null,
      "outputs": []
    },
    {
      "cell_type": "code",
      "metadata": {
        "id": "iIWbcZm8FX7L",
        "colab_type": "code",
        "colab": {}
      },
      "source": [
        ""
      ],
      "execution_count": null,
      "outputs": []
    },
    {
      "cell_type": "code",
      "metadata": {
        "id": "_ZW8mb4DFX4x",
        "colab_type": "code",
        "colab": {}
      },
      "source": [
        ""
      ],
      "execution_count": null,
      "outputs": []
    },
    {
      "cell_type": "code",
      "metadata": {
        "id": "bL5rONF8ALd5",
        "colab_type": "code",
        "colab": {}
      },
      "source": [
        ""
      ],
      "execution_count": null,
      "outputs": []
    },
    {
      "cell_type": "markdown",
      "metadata": {
        "id": "7pmUe3Wz4Kky",
        "colab_type": "text"
      },
      "source": [
        "# KEEP IT CLOSED"
      ]
    },
    {
      "cell_type": "code",
      "metadata": {
        "id": "1lmBJczRJQ3B",
        "colab_type": "code",
        "colab": {}
      },
      "source": [
        "from sklearn import datasets \n",
        "boston = datasets.load_boston()\n",
        "\n",
        "X = boston.data\n",
        "# len(X)\n",
        "# print(X)\n",
        "y = boston.target\n",
        "# len(y)\n",
        "# print(y)"
      ],
      "execution_count": null,
      "outputs": []
    },
    {
      "cell_type": "code",
      "metadata": {
        "id": "Tf7C0KbiFX2B",
        "colab_type": "code",
        "colab": {}
      },
      "source": [
        "# X= {1, 2, 3, 4, 5, 6, 7, 8, 9, 10}\n",
        "# y= {0, 0, 0, 1, 0, 1, 1, 0, 0, 1}\n",
        "\n",
        "Dataset = CustomDataset(torch.FloatTensor(X), torch.FloatTensor(y))\n",
        "\n",
        "class customdataset(Dataset):\n",
        "\n",
        "  def __init__ (self, X_data, y_data):\n",
        "    self.X_data = X_data\n",
        "    self,y_data = y_data\n",
        "\n",
        "  def __getitem__ (self, index):\n",
        "    return self.X_data[index], self.y_data[index]\n",
        "\n",
        "  def __len__ (self):\n",
        "    return(len(self.X_data))\n",
        "\n",
        "\n"
      ],
      "execution_count": null,
      "outputs": []
    },
    {
      "cell_type": "code",
      "metadata": {
        "id": "e_m068RcCx_n",
        "colab_type": "code",
        "colab": {
          "base_uri": "https://localhost:8080/",
          "height": 119
        },
        "outputId": "6c493390-558c-4055-c709-8e0d7401bfba"
      },
      "source": [
        "m = nn.LogSoftmax()\n",
        "input = torch.ones(2, 3)\n",
        "print(input)\n",
        "output = F.log_softmax(input, dim=1)\n",
        "print(output)\n",
        "output_1 = F.log_softmax(input, dim=0)\n",
        "print(output_1)"
      ],
      "execution_count": 39,
      "outputs": [
        {
          "output_type": "stream",
          "text": [
            "tensor([[1., 1., 1.],\n",
            "        [1., 1., 1.]])\n",
            "tensor([[-1.0986, -1.0986, -1.0986],\n",
            "        [-1.0986, -1.0986, -1.0986]])\n",
            "tensor([[-0.6931, -0.6931, -0.6931],\n",
            "        [-0.6931, -0.6931, -0.6931]])\n"
          ],
          "name": "stdout"
        }
      ]
    },
    {
      "cell_type": "code",
      "metadata": {
        "id": "t7ZACitgB9cl",
        "colab_type": "code",
        "colab": {}
      },
      "source": [
        ""
      ],
      "execution_count": null,
      "outputs": []
    },
    {
      "cell_type": "code",
      "metadata": {
        "id": "I-eNN9qz4rG6",
        "colab_type": "code",
        "colab": {
          "base_uri": "https://localhost:8080/",
          "height": 34
        },
        "outputId": "936ad541-0d4f-40c2-8e26-e5b9a56fa8b4"
      },
      "source": [
        "from tqdm import tqdm \n",
        "\n",
        "for i in tqdm(range(int(9e6))): \n",
        "\tpass\n"
      ],
      "execution_count": 1,
      "outputs": [
        {
          "output_type": "stream",
          "text": [
            "100%|██████████| 9000000/9000000 [00:02<00:00, 4272921.00it/s]\n"
          ],
          "name": "stderr"
        }
      ]
    },
    {
      "cell_type": "code",
      "metadata": {
        "id": "0GDFYEUp4uBv",
        "colab_type": "code",
        "colab": {}
      },
      "source": [
        ""
      ],
      "execution_count": null,
      "outputs": []
    },
    {
      "cell_type": "code",
      "metadata": {
        "id": "cT8dSm45rjx3",
        "colab_type": "code",
        "colab": {}
      },
      "source": [
        ""
      ],
      "execution_count": null,
      "outputs": []
    }
  ]
}